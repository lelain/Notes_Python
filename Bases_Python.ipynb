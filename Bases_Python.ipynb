{
 "cells": [
  {
   "cell_type": "markdown",
   "metadata": {},
   "source": [
    "# Cours Openclassroom - Initiez-vous à Python pour l'analyse de données\n",
    "\n",
    "<https://openclassrooms.com/fr/courses/6204541-initiez-vous-a-python-pour-lanalyse-de-donnees>\n",
    "\n",
    "\n",
    "TODO : \n",
    "* fonctions lambda\n",
    "* classes"
   ]
  },
  {
   "cell_type": "markdown",
   "metadata": {},
   "source": [
    "## Documentation\n",
    "\n",
    "* dans python : `help(nom_fonction)`\n",
    "* <https://docs.python.org/fr/3.7/>\n",
    "* <https://docs.python.org/fr/3.7/library/index.html>\n",
    "* *Built-in* fonctions et types : <https://docs.python.org/3.7/library/functions.html>"
   ]
  },
  {
   "cell_type": "code",
   "execution_count": 66,
   "metadata": {},
   "outputs": [
    {
     "name": "stdout",
     "output_type": "stream",
     "text": [
      "3.7.6 (default, Jan  8 2020, 19:59:22) \n",
      "[GCC 7.3.0]\n"
     ]
    }
   ],
   "source": [
    "# la version de python\n",
    "import sys\n",
    "\n",
    "print(sys.version)"
   ]
  },
  {
   "cell_type": "code",
   "execution_count": 67,
   "metadata": {},
   "outputs": [
    {
     "name": "stdout",
     "output_type": "stream",
     "text": [
      "Hello world\n"
     ]
    }
   ],
   "source": [
    "print(\"Hello world\")"
   ]
  },
  {
   "cell_type": "code",
   "execution_count": 68,
   "metadata": {},
   "outputs": [
    {
     "name": "stdout",
     "output_type": "stream",
     "text": [
      "Help on built-in function print in module builtins:\n",
      "\n",
      "print(...)\n",
      "    print(value, ..., sep=' ', end='\\n', file=sys.stdout, flush=False)\n",
      "    \n",
      "    Prints the values to a stream, or to sys.stdout by default.\n",
      "    Optional keyword arguments:\n",
      "    file:  a file-like object (stream); defaults to the current sys.stdout.\n",
      "    sep:   string inserted between values, default a space.\n",
      "    end:   string appended after the last value, default a newline.\n",
      "    flush: whether to forcibly flush the stream.\n",
      "\n"
     ]
    }
   ],
   "source": [
    "help(print)"
   ]
  },
  {
   "cell_type": "markdown",
   "metadata": {},
   "source": [
    "## Coding style\n",
    "\n",
    "Voir <https://www.python.org/dev/peps/pep-0008/> pour le style guide complet.\n",
    "\n",
    "* utiliser une indentation avec 4 espaces, pas de tabulation\n",
    "* faire des lignes de 79 caractères maximum\n",
    "* lignes vides pour séparer les fonctions et les classes, et des blocs de code plus importants pour le corps des fonctions\n",
    "* utiliser la docstrings\n",
    "* nomage des classes : `CamelCase`\n",
    "* nomage des fonctions : `lower_case_with_underscores`"
   ]
  },
  {
   "cell_type": "markdown",
   "metadata": {},
   "source": [
    "## Docstring\n",
    "\n",
    "*A compléter*\n",
    "\n",
    "Voir <https://sphinxcontrib-napoleon.readthedocs.io/en/latest/example_google.html>"
   ]
  },
  {
   "cell_type": "markdown",
   "metadata": {},
   "source": [
    "## Les variables"
   ]
  },
  {
   "cell_type": "code",
   "execution_count": 20,
   "metadata": {},
   "outputs": [],
   "source": [
    "compteCourant = 500\n",
    "compteEpargne = 1000"
   ]
  },
  {
   "cell_type": "markdown",
   "metadata": {},
   "source": [
    "### Opérateurs de base\n",
    "\n",
    "* addition : `+`\n",
    "* soustraction : `-`\n",
    "* multiplication : `*`\n",
    "* division : `/`\n",
    "* division entière : `//`\n",
    "* reste de la division entière (modulo) : `%`\n",
    "* puissance : `**`"
   ]
  },
  {
   "cell_type": "code",
   "execution_count": 21,
   "metadata": {},
   "outputs": [
    {
     "name": "stdout",
     "output_type": "stream",
     "text": [
      "100\n",
      "27\n",
      "2\n"
     ]
    }
   ],
   "source": [
    "# ajouter 100 à notre épargne \n",
    "compteEpargne = compteEpargne + 100\n",
    "\n",
    "# enlever 50 de notre compte courant\n",
    "compteCourant = compteCourant - 50\n",
    "\n",
    "# calculer le nombre de jours à économiser pour atteindre 5000€\n",
    "nombreJoursEconomiser = (5000 - compteCourant) / 500\n",
    "\n",
    "# mettre à jour notre compte courant (encore) après les gains/pertes journaliers\n",
    "compteCourant = compteCourant + (30 - 10) * 7\n",
    "\n",
    "# modulo = reste de la division euclidienne\n",
    "print(compteEpargne % 500) \n",
    "# 1100 = 500 * 2 + 100, donc 1100 % 500 = le reste = 100\n",
    "\n",
    "# ** = puissance\n",
    "print(3 ** 3) \n",
    "\n",
    "# // = résultat de la division entière\n",
    "print(compteEpargne // 500) \n",
    "# 1100 = 500 * 2 + 100, donc 1100 // 500 = résultat division entière = 2"
   ]
  },
  {
   "cell_type": "markdown",
   "metadata": {},
   "source": [
    "### Opérateurs simplifiés\n",
    "\n",
    "* `+=`\n",
    "* `-=`\n",
    "* `*=`\n",
    "* etc.\n"
   ]
  },
  {
   "cell_type": "code",
   "execution_count": 22,
   "metadata": {},
   "outputs": [
    {
     "name": "stdout",
     "output_type": "stream",
     "text": [
      "1100\n",
      "1300\n"
     ]
    }
   ],
   "source": [
    "print(compteEpargne)\n",
    "\n",
    "# version explicite\n",
    "compteEpargne = compteEpargne + 100\n",
    "\n",
    "# équivalent à version courte :\n",
    "compteEpargne += 100\n",
    "\n",
    "print(compteEpargne)"
   ]
  },
  {
   "cell_type": "markdown",
   "metadata": {},
   "source": [
    "## Les types de variables"
   ]
  },
  {
   "cell_type": "code",
   "execution_count": 23,
   "metadata": {},
   "outputs": [
    {
     "name": "stdout",
     "output_type": "stream",
     "text": [
      "<class 'int'>\n",
      "<class 'str'>\n",
      "<class 'float'>\n"
     ]
    }
   ],
   "source": [
    "# Pour connaitre le type :\n",
    "print(type(compteEpargne))\n",
    "print(type(\"abc\"))\n",
    "print(type(7.5))"
   ]
  },
  {
   "cell_type": "markdown",
   "metadata": {
    "heading_collapsed": true
   },
   "source": [
    "### Variables numériques"
   ]
  },
  {
   "cell_type": "code",
   "execution_count": 24,
   "metadata": {
    "hidden": true
   },
   "outputs": [],
   "source": [
    "# int\n",
    "a = 1\n",
    "\n",
    "# float\n",
    "b = 1.2\n",
    "c = 1.0\n",
    "\n",
    "# int() et float() pour les convertions"
   ]
  },
  {
   "cell_type": "code",
   "execution_count": 25,
   "metadata": {
    "hidden": true
   },
   "outputs": [
    {
     "name": "stdout",
     "output_type": "stream",
     "text": [
      "1.0\n",
      "1\n"
     ]
    }
   ],
   "source": [
    "print(c)\n",
    "print(int(c))"
   ]
  },
  {
   "cell_type": "markdown",
   "metadata": {},
   "source": [
    "### Les strings\n",
    "\n",
    "* quotes simple ou double\n",
    "* concaténation : `+`\n",
    "* répétition : `*`\n",
    "* string sur plusieurs lignes : `\"\"\" ... \"\"\"`\n",
    "* 2 strings côte à côte sont concaténés, marche seulement pour des strings (pas des variables). Pratique pour découper des strings longs\n",
    "* un string est indexable, commence par l'indice 0 \n",
    "* indice négatif pour compter de la fin\n",
    "* non mutable <=> on ne peut pas changer directement une chaine\n",
    "* fonction `len()` pour avoir la taille du string"
   ]
  },
  {
   "cell_type": "code",
   "execution_count": 26,
   "metadata": {},
   "outputs": [
    {
     "name": "stdout",
     "output_type": "stream",
     "text": [
      "abcdef\n",
      "ununundeux\n",
      "abc1.0\n",
      "abc 1.0\n",
      "3\n",
      "Put several strings within parentheses to have them joined together.\n",
      "P\n",
      "n\n",
      "n\n"
     ]
    }
   ],
   "source": [
    "# concaténation avec +\n",
    "a = \"abc\"\n",
    "b = \"def\"\n",
    "print(a + b)\n",
    "\n",
    "# répétition avec *\n",
    "print(3 * \"un\" + \"deux\")\n",
    "\n",
    "# si on veut concaténer avec un num il faut convertir avec str()\n",
    "print(a + str(c))\n",
    "\n",
    "# On peut plus simplement passer un nombre aléatoire d'arguments à print() qui fait les convertions\n",
    "print(a, c)\n",
    "\n",
    "# len() pour length\n",
    "print(len(a))\n",
    "\n",
    "# Un string défini sur plusieurs lignes\n",
    "text = ('Put several strings within parentheses '\n",
    "        'to have them joined together.')\n",
    "print(text)\n",
    "\n",
    "# indexable\n",
    "text = \"Python\"\n",
    "print(text[0])\n",
    "print(text[5])\n",
    "print(text[-1])\n",
    "# non mutable : text[2] = \"x\"  renvoie une erreur"
   ]
  },
  {
   "cell_type": "markdown",
   "metadata": {
    "heading_collapsed": true
   },
   "source": [
    "## Les fonctions\n",
    "\n",
    "* Définition de la fonction avec le mot clé `def` suivi du nom de la fonction puis `:`.\n",
    "* Tout ce qui est après doit être indenté = 4 espaces.\n",
    "* Fin de la fonction c'est simplement la première ligne qui n'est plus indentée.\n",
    "* Valeur retournée avec le mot clé `return`."
   ]
  },
  {
   "cell_type": "code",
   "execution_count": 27,
   "metadata": {
    "hidden": true
   },
   "outputs": [],
   "source": [
    "def afficherPerimetre(cote1, cote2, cote3):\n",
    "    perimetre = cote1 + cote2 + cote3\n",
    "    print(perimetre)"
   ]
  },
  {
   "cell_type": "code",
   "execution_count": 28,
   "metadata": {
    "hidden": true
   },
   "outputs": [
    {
     "name": "stdout",
     "output_type": "stream",
     "text": [
      "6\n"
     ]
    }
   ],
   "source": [
    "afficherPerimetre(1, 2, 3)"
   ]
  },
  {
   "cell_type": "code",
   "execution_count": 29,
   "metadata": {
    "hidden": true
   },
   "outputs": [],
   "source": [
    "# Valeur retournée avec le mot clé return\n",
    "def calculPerimetre(cote1, cote2, cote3):\n",
    "    return cote1 + cote2 + cote3"
   ]
  },
  {
   "cell_type": "code",
   "execution_count": 30,
   "metadata": {
    "hidden": true
   },
   "outputs": [
    {
     "name": "stdout",
     "output_type": "stream",
     "text": [
      "Le périmetre de mon premier triangle est 13 et celle de mon second est 24\n"
     ]
    }
   ],
   "source": [
    "perimetre1 = calculPerimetre(6, 4, 3)\n",
    "perimetre2 = calculPerimetre(10, 3, 11)\n",
    "\n",
    "print(\"Le périmetre de mon premier triangle est\", perimetre1, \"et celle de mon second est\", perimetre2)"
   ]
  },
  {
   "cell_type": "markdown",
   "metadata": {},
   "source": [
    "## Les classes"
   ]
  },
  {
   "cell_type": "code",
   "execution_count": 31,
   "metadata": {},
   "outputs": [],
   "source": [
    "# 2 instances de la classe int :\n",
    "var1 = 2\n",
    "var2 = 20"
   ]
  },
  {
   "cell_type": "markdown",
   "metadata": {},
   "source": [
    "### Les méthodes\n",
    "\n",
    "* `nomVariable.methode()`\n",
    "\n",
    "**Méthodes string :**\n",
    "\n",
    "* `lower()` pour mettre en minuscules\n",
    "* `upper()` en majuscules\n",
    "* `capitalize()` met la première lettre en majuscule, le reste en minuscules\n",
    "* `replace()` remplace les occurences qui matchent le premier argument par le string en deuxième argument\n",
    "* `find()` renvoie l'indice de la première occurence, -1 si elle trouve rien\n",
    "* `startswith()` renvoie True si la chaine commence par le string passé en argument\n",
    "* `split()` renvoie les mots contenus dans un string\n",
    "* Voir <https://docs.python.org/3.7/library/stdtypes.html#str> pour l'ensemble des méthodes définies."
   ]
  },
  {
   "cell_type": "code",
   "execution_count": 32,
   "metadata": {},
   "outputs": [
    {
     "name": "stdout",
     "output_type": "stream",
     "text": [
      "majuscules\n"
     ]
    }
   ],
   "source": [
    "# méthode lower de str\n",
    "a = \"MAJUSCULES\"\n",
    "print(a.lower())"
   ]
  },
  {
   "cell_type": "code",
   "execution_count": 33,
   "metadata": {},
   "outputs": [
    {
     "name": "stdout",
     "output_type": "stream",
     "text": [
      "VOICI UN EXEMPLE AVEC UN STRING\n",
      "Voici un exemple avec un string\n",
      "voici un essai avec un STRING\n",
      "voici un EXEMPLE avec un STRING\n",
      "voici zn EXEMPLE avec zn STRING\n",
      "6\n",
      "-1\n",
      "True\n",
      "False\n"
     ]
    }
   ],
   "source": [
    "texte = \"voici un EXEMPLE avec un STRING\"\n",
    "print(texte.upper())\n",
    "\n",
    "# première lettre en maj, le reste un minuscules\n",
    "print(texte.capitalize())\n",
    "\n",
    "print(texte.replace(\"EXEMPLE\", \"essai\"))\n",
    "# ne fait rien si ne trouve pas\n",
    "print(texte.replace(\"toto\", \"essai\")) \n",
    "# si plusieurs occurences, remplace tout\n",
    "print(texte.replace(\"u\", \"z\"))\n",
    "\n",
    "# find renvoie l'indice de la première occurence de la chaine, ou -1 si elle trouve rien\n",
    "print(texte.find(\"un\"))\n",
    "print(texte.find(\"deux\"))\n",
    "\n",
    "# startswith teste le début de la chaine\n",
    "print(texte.startswith(\"voi\"))\n",
    "print(texte.startswith(\"toi\"))"
   ]
  },
  {
   "cell_type": "code",
   "execution_count": 13,
   "metadata": {},
   "outputs": [
    {
     "name": "stdout",
     "output_type": "stream",
     "text": [
      "['Je', 'suis', 'là']\n"
     ]
    }
   ],
   "source": [
    "print(\"Je suis là\".split())"
   ]
  },
  {
   "cell_type": "markdown",
   "metadata": {},
   "source": [
    "## Les listes\n",
    "\n",
    "* type capable de contenir des objets de n'importe quel type\n",
    "* déclaré avec `[]`\n",
    "* mutable <=> on peut modifier directement un élément\n",
    "* ordonné : indice commence à 0\n",
    "* indice -1 pour accéder au dernier élément, -2 l'avant-dernier, etc.\n",
    "* `1:3` renvoie liste restreint aux éléments 2 à 4 exclu\n",
    "* `:2` les éléments 1 à 3 exclu \n",
    "* pour aller d'un indice positif à un indice négatif, il faut utiliser `::`\n",
    "* accepte la concaténation avec `+`\n",
    "* on peut assigner à des *slices*, ça peut changer la taille de la liste ou même la vider complètement\n",
    "* on peut imbriquer des listes : on accède avec `ma_liste[i][j]`"
   ]
  },
  {
   "cell_type": "code",
   "execution_count": 1,
   "metadata": {},
   "outputs": [
    {
     "name": "stdout",
     "output_type": "stream",
     "text": [
      "['Jean', 'Pierre', 'Paul']\n",
      "['Brendan', 'Pierre', 'Paul']\n"
     ]
    }
   ],
   "source": [
    "# une liste vide\n",
    "ma_liste = []\n",
    "\n",
    "# une liste\n",
    "nom_client = [\"Jean\", \"Pierre\", \"Paul\"]\n",
    "print(nom_client)\n",
    "\n",
    "nom_client[0] = \"Brendan\"\n",
    "print(nom_client)"
   ]
  },
  {
   "cell_type": "code",
   "execution_count": 2,
   "metadata": {},
   "outputs": [
    {
     "name": "stdout",
     "output_type": "stream",
     "text": [
      "['Brendan', 'Pierre', 'Paul']\n",
      "['Pierre']\n",
      "Paul\n",
      "['Pierre', 'Paul']\n",
      "['Brendan']\n",
      "['Pierre', 'Brendan']\n"
     ]
    }
   ],
   "source": [
    "print(nom_client[:3])\n",
    "print(nom_client[1:2])\n",
    "print(nom_client[-1])\n",
    "print(nom_client[1:])\n",
    "print(nom_client[:1])\n",
    "print(nom_client[1::-1])"
   ]
  },
  {
   "cell_type": "code",
   "execution_count": 3,
   "metadata": {},
   "outputs": [
    {
     "name": "stdout",
     "output_type": "stream",
     "text": [
      "['Brendan', 'Blabla', 'Paul']\n"
     ]
    }
   ],
   "source": [
    "# mutable\n",
    "nom_client[1] = \"Blabla\"\n",
    "print(nom_client)"
   ]
  },
  {
   "cell_type": "code",
   "execution_count": 4,
   "metadata": {},
   "outputs": [
    {
     "name": "stdout",
     "output_type": "stream",
     "text": [
      "['Brendan', 'Blabla', 'Paul', 4, 5]\n"
     ]
    }
   ],
   "source": [
    "# accepte la concaténation\n",
    "print(nom_client + [4, 5])"
   ]
  },
  {
   "cell_type": "code",
   "execution_count": 5,
   "metadata": {},
   "outputs": [
    {
     "name": "stdout",
     "output_type": "stream",
     "text": [
      "['a', 'b', 'c', 'd', 'e', 'f', 'g']\n",
      "['a', 'b', 'C', 'D', 'E', 'f', 'g']\n",
      "['a', 'b', 'f', 'g']\n",
      "[]\n"
     ]
    }
   ],
   "source": [
    "# Assignation de slices change la taille\n",
    "letters = ['a', 'b', 'c', 'd', 'e', 'f', 'g']\n",
    "print(letters)\n",
    "\n",
    "letters[2:5] = ['C', 'D', 'E']\n",
    "print(letters)\n",
    "\n",
    "letters[2:5] = []\n",
    "print(letters)\n",
    "\n",
    "letters[:] = []\n",
    "print(letters)"
   ]
  },
  {
   "cell_type": "code",
   "execution_count": 6,
   "metadata": {},
   "outputs": [
    {
     "name": "stdout",
     "output_type": "stream",
     "text": [
      "[['a', 'b', 'c'], [1, 2, 3]]\n",
      "['a', 'b', 'c']\n",
      "b\n"
     ]
    }
   ],
   "source": [
    "# On peut imbriquer des listes\n",
    "a = ['a', 'b', 'c']\n",
    "n = [1, 2, 3]\n",
    "x = [a, n]\n",
    "print(x)\n",
    "\n",
    "print(x[0])\n",
    "\n",
    "print(x[0][1])"
   ]
  },
  {
   "cell_type": "markdown",
   "metadata": {
    "heading_collapsed": true
   },
   "source": [
    "### Méthodes de listes\n",
    "\n",
    "* `append(x)` pour ajouter un élément\n",
    "* `insert(i, x)` pour insérer un élément avant l'indice en paramètre. `a.insert(0, x)` insert au début, `a.insert(len(a), x)` est équivalent à `a.append(x)`\n",
    "* `extend(L)` pour ajouter une liste à une liste\n",
    "* `remove(x)` pour chercher et supprimer la première occurence trouvée dont la valeur est `x`\n",
    "* `index(x)` renvoie l'indice du premier élément de la liste dont la valeur est `x`.\n",
    "* `pop([i])` supprime l'élément à la position donnée, et renvoie cet élément. Si aucun indice n'est spécifié, `a.pop()` supprime et renvoie le dernier élément de la liste. (Les crochets dans la signature signifie que l'argument est optionnel). \n",
    "* `count(x)` renvoie le nombre de fois où `x` apparaît dans la liste.\n",
    "* `sort(cmp=None, key=None, reverse=False)` ou plutôt `sorted(L)` tri les éléments de la liste, voir <https://docs.python.org/3.7/library/functions.html#sorted> pour explication des arguments, et <https://docs.python.org/3.7/howto/sorting.html#sortinghowto> pour un petit tutoriel.\n",
    "* `reverse()` : inverse les éléments de la liste.\n"
   ]
  },
  {
   "cell_type": "code",
   "execution_count": 37,
   "metadata": {
    "hidden": true
   },
   "outputs": [
    {
     "name": "stdout",
     "output_type": "stream",
     "text": [
      "[7, 5]\n"
     ]
    }
   ],
   "source": [
    "liste = []\n",
    "liste.append(7)\n",
    "liste.append(5)\n",
    "print(liste) "
   ]
  },
  {
   "cell_type": "code",
   "execution_count": 38,
   "metadata": {
    "hidden": true
   },
   "outputs": [
    {
     "name": "stdout",
     "output_type": "stream",
     "text": [
      "[7, 6, 5]\n"
     ]
    }
   ],
   "source": [
    "liste.insert(1, 6)\n",
    "print(liste)"
   ]
  },
  {
   "cell_type": "code",
   "execution_count": 39,
   "metadata": {
    "hidden": true
   },
   "outputs": [
    {
     "name": "stdout",
     "output_type": "stream",
     "text": [
      "[7, 6, 5, 1, 2, 3]\n"
     ]
    }
   ],
   "source": [
    "autre_liste = [1, 2, 3]\n",
    "liste.extend(autre_liste)\n",
    "print(liste)"
   ]
  },
  {
   "cell_type": "code",
   "execution_count": 40,
   "metadata": {
    "hidden": true
   },
   "outputs": [
    {
     "name": "stdout",
     "output_type": "stream",
     "text": [
      "[7, 6, 5, 2, 3]\n"
     ]
    }
   ],
   "source": [
    "liste.remove(1)\n",
    "print(liste)"
   ]
  },
  {
   "cell_type": "code",
   "execution_count": 41,
   "metadata": {
    "hidden": true
   },
   "outputs": [
    {
     "name": "stdout",
     "output_type": "stream",
     "text": [
      "1\n"
     ]
    }
   ],
   "source": [
    "liste.append(6)\n",
    "print(liste.index(6))"
   ]
  },
  {
   "cell_type": "code",
   "execution_count": 7,
   "metadata": {
    "hidden": true
   },
   "outputs": [
    {
     "name": "stdout",
     "output_type": "stream",
     "text": [
      "3\n",
      "[1, 5]\n",
      "5\n",
      "[1]\n"
     ]
    }
   ],
   "source": [
    "a = [1, 3, 5]\n",
    "print(a.pop(1))\n",
    "print(a)\n",
    "\n",
    "print(a.pop())\n",
    "print(a)"
   ]
  },
  {
   "cell_type": "code",
   "execution_count": 10,
   "metadata": {
    "hidden": true
   },
   "outputs": [
    {
     "name": "stdout",
     "output_type": "stream",
     "text": [
      "[1, 2, 3, 4, 5]\n",
      "[5, 4, 3, 2, 1]\n",
      "['a', 'Andrew', 'from', 'is', 'string', 'test', 'This']\n"
     ]
    }
   ],
   "source": [
    "# Un tri simple \n",
    "print(sorted([5, 2, 3, 1, 4]))\n",
    "print(sorted([5, 2, 3, 1, 4], reverse = True))\n",
    "\n",
    "# dans l'ordre alphabétique, sans notion de casse\n",
    "print(sorted(\"This is a test string from Andrew\".split(), key = str.lower))"
   ]
  },
  {
   "cell_type": "markdown",
   "metadata": {},
   "source": [
    "### Suppression d'un élément, taille\n",
    "\n",
    "* `len()` pour récupérer la taille de la liste\n",
    "* le mot clé `del` pour supprimer un élément suivant son indice"
   ]
  },
  {
   "cell_type": "code",
   "execution_count": 42,
   "metadata": {},
   "outputs": [
    {
     "name": "stdout",
     "output_type": "stream",
     "text": [
      "[7, 5, 2, 3, 6]\n"
     ]
    }
   ],
   "source": [
    "del liste[1]\n",
    "print(liste)"
   ]
  },
  {
   "cell_type": "code",
   "execution_count": 43,
   "metadata": {},
   "outputs": [
    {
     "name": "stdout",
     "output_type": "stream",
     "text": [
      "5\n"
     ]
    }
   ],
   "source": [
    "print(len(liste))"
   ]
  },
  {
   "cell_type": "markdown",
   "metadata": {},
   "source": [
    "### Listes en compréhension\n",
    "\n",
    "* permet de créer des listes où chaque élément est le résultat d'une opération ou satisfait une condition\n",
    "* est créée avec `[]` et un `for` suivi de zéro ou plusieurs `for` ou `if`."
   ]
  },
  {
   "cell_type": "code",
   "execution_count": 15,
   "metadata": {},
   "outputs": [
    {
     "name": "stdout",
     "output_type": "stream",
     "text": [
      "[0, 1, 4, 9, 16, 25, 36, 49, 64, 81]\n"
     ]
    }
   ],
   "source": [
    "# le plus simple, liste de valeurs calculées \n",
    "print([x**2 for x in range(10)])"
   ]
  },
  {
   "cell_type": "code",
   "execution_count": 16,
   "metadata": {},
   "outputs": [
    {
     "name": "stdout",
     "output_type": "stream",
     "text": [
      "[(1, 3), (1, 4), (2, 3), (2, 1), (2, 4), (3, 1), (3, 4)]\n"
     ]
    }
   ],
   "source": [
    "# crée un tuple avec toutes les paires de chiffres différents\n",
    "print([(x, y) for x in [1,2,3] for y in [3,1,4] if x != y])"
   ]
  },
  {
   "cell_type": "code",
   "execution_count": 17,
   "metadata": {},
   "outputs": [
    {
     "name": "stdout",
     "output_type": "stream",
     "text": [
      "[-8, -4, 0, 4, 8]\n",
      "[0, 2, 4]\n",
      "[4, 2, 0, 2, 4]\n"
     ]
    }
   ],
   "source": [
    "vec = [-4, -2, 0, 2, 4]\n",
    "\n",
    "# une nouvelle liste chaque élément vaut le double\n",
    "print([x*2 for x in vec])\n",
    "\n",
    "# on enlève les valeurs négatives\n",
    "print([x for x in vec if x >= 0])\n",
    "\n",
    "# applique une fonction aux éléments de la liste\n",
    "print([abs(x) for x in vec])"
   ]
  },
  {
   "cell_type": "code",
   "execution_count": 18,
   "metadata": {},
   "outputs": [
    {
     "name": "stdout",
     "output_type": "stream",
     "text": [
      "['banana', 'loganberry', 'passion fruit']\n"
     ]
    }
   ],
   "source": [
    "# appelle d'une méthode sur chaque élément\n",
    "# strip() supprime les espaces de début et de fin d'un string\n",
    "freshfruit = ['  banana', '  loganberry ', 'passion fruit  ']\n",
    "print([weapon.strip() for weapon in freshfruit])"
   ]
  },
  {
   "cell_type": "code",
   "execution_count": 19,
   "metadata": {},
   "outputs": [
    {
     "name": "stdout",
     "output_type": "stream",
     "text": [
      "[(0, 0), (1, 1), (2, 4), (3, 9), (4, 16), (5, 25)]\n"
     ]
    }
   ],
   "source": [
    "# créé une liste de 2-tuples (nombre, carré)\n",
    "print([(x, x**2) for x in range(6)])"
   ]
  },
  {
   "cell_type": "code",
   "execution_count": 20,
   "metadata": {},
   "outputs": [
    {
     "name": "stdout",
     "output_type": "stream",
     "text": [
      "[1, 2, 3, 4, 5, 6, 7, 8, 9]\n"
     ]
    }
   ],
   "source": [
    "# flatten une liste avec 2 'for'\n",
    "vec = [[1,2,3], [4,5,6], [7,8,9]]\n",
    "\n",
    "print([num for elem in vec for num in elem])"
   ]
  },
  {
   "cell_type": "markdown",
   "metadata": {},
   "source": [
    "## Les tuples\n",
    "\n",
    "* les strings et listes sont 2 exemples de types *sequence*. Le *tuple* en est un autre.\n",
    "* un tuple est un ensemble de valeurs (pouvant être de types différents) séparées par des virgules \n",
    "* les tuples sont *immutable* (changer une valeur avec indice interdit : `t[0] = 1` renvoie une erreur). "
   ]
  },
  {
   "cell_type": "code",
   "execution_count": 26,
   "metadata": {},
   "outputs": [
    {
     "name": "stdout",
     "output_type": "stream",
     "text": [
      "12345\n",
      "(12345, 54321, 'hello!')\n",
      "<class 'tuple'>\n"
     ]
    }
   ],
   "source": [
    "t = 12345, 54321, 'hello!'\n",
    "print(t[0])\n",
    "print(t)\n",
    "print(type(t))\n",
    "\n",
    "# immutable\n",
    "# t[0] = 88888  # erreur"
   ]
  },
  {
   "cell_type": "markdown",
   "metadata": {},
   "source": [
    "### Différences avec les listes\n",
    "\n",
    "* les tuples sont immutable, contiennent souvent des éléments hétérogènes, auxquels on accède par *unpacking* ou indices.\n",
    "* les listes sont mutables, contiennent souvent des éléments de même type, auxquels on accède par itération sur la liste.\n",
    "* un tuple vide se construit avec une paire de parenthèses\n",
    "* un tuple avec une seule valeur se construit avec une valeur suivie d'une virgule"
   ]
  },
  {
   "cell_type": "code",
   "execution_count": 27,
   "metadata": {},
   "outputs": [
    {
     "name": "stdout",
     "output_type": "stream",
     "text": [
      "((12345, 54321, 'hello!'), (1, 2, 3, 4, 5))\n",
      "([1, 2, 3], [3, 2, 1])\n"
     ]
    }
   ],
   "source": [
    "# les tuples peuvent être imbriqués\n",
    "u = t, (1, 2, 3, 4, 5)\n",
    "print(u)\n",
    "\n",
    "# mais peuvent contenir des objets mutables (par exemple des listes)\n",
    "v = ([1, 2, 3], [3, 2, 1])\n",
    "print(v)"
   ]
  },
  {
   "cell_type": "code",
   "execution_count": 24,
   "metadata": {},
   "outputs": [
    {
     "name": "stdout",
     "output_type": "stream",
     "text": [
      "0\n",
      "1\n",
      "('hello',)\n"
     ]
    }
   ],
   "source": [
    "# tuple vide\n",
    "empty = ()\n",
    "print(len(empty))\n",
    "\n",
    "# un seul élément\n",
    "singleton = 'hello',    # <-- attention à la virgule\n",
    "print(len(singleton))\n",
    "print(singleton)"
   ]
  },
  {
   "cell_type": "markdown",
   "metadata": {},
   "source": [
    "### Packing et unpacking\n",
    "\n",
    "* packing : `t = 1, 2, 'abc'`, les 3 valeurs sont rassembler dans un tuple\n",
    "* unpacking : `x, y, z = t`. Fonctionne pour n'importe quelle séquence `t` ; nécessite que les variables à gauche du signe égal soient du même nombre que la taille de la séquence."
   ]
  },
  {
   "cell_type": "code",
   "execution_count": 29,
   "metadata": {},
   "outputs": [
    {
     "name": "stdout",
     "output_type": "stream",
     "text": [
      "(1, 2, 'abc')\n",
      "1\n",
      "2\n",
      "abc\n"
     ]
    }
   ],
   "source": [
    "t = 1, 2, 'abc'\n",
    "print(t)\n",
    "\n",
    "x, y, z = t\n",
    "print(x)\n",
    "print(y)\n",
    "print(z)"
   ]
  },
  {
   "cell_type": "markdown",
   "metadata": {},
   "source": [
    "## Les dictionnaires\n",
    "\n",
    "* dictionnaire : liste d'éléments organiser avec un système de clé, cad association clé-valeur\n",
    "* chaque clé doit être unique\n",
    "* non ordonné\n",
    "* déclarée avec `{}`\n",
    "* accès à un élément avec la valeur de la clé\n",
    "* ajout d'un élément directement avec `mon_dico[\"new_entry\"] = new_val`\n",
    "* `pop(key)` supprime l'élément `key` du dictionnaire et renvoie l'élément supprimé \n",
    "* `len()` aussi utilisable pour les dictionnaires"
   ]
  },
  {
   "cell_type": "code",
   "execution_count": 44,
   "metadata": {},
   "outputs": [
    {
     "name": "stdout",
     "output_type": "stream",
     "text": [
      "150\n",
      "1000\n",
      "{'Georges Dupont': 8000, 'Lucas Anderson': 300, 'Alexandre Petit': 1800.74, 'Cyril Andreje': 1000}\n",
      "4\n"
     ]
    }
   ],
   "source": [
    "comptes = {\"Georges Dupont\": 10000, \"Luc Martin\": 150, \"Lucas Anderson\": 300, \"Alexandre Petit\": 1800.74}\n",
    "print(comptes[\"Luc Martin\"]) \n",
    "\n",
    "# je soustrais 2000 au compte de Georges\n",
    "comptes['Georges Dupont'] -= 2000 \n",
    "\n",
    "# j'ajoute un nouvel individu dans mon dictionnaire\n",
    "comptes['Cyril Andreje'] = 1000 \n",
    "print(comptes['Cyril Andreje'])\n",
    "\n",
    "# supprime Luc Martin de notre dictionnaire\n",
    "comptes.pop('Luc Martin') \n",
    "\n",
    "print(comptes)\n",
    "print(len(comptes))"
   ]
  },
  {
   "cell_type": "markdown",
   "metadata": {},
   "source": [
    "## Structures conditionnelles\n",
    "\n",
    "### `if`\n",
    "\n",
    "* `if`, `elif` pour *else if* et `else` chaque fois suivi de `:`"
   ]
  },
  {
   "cell_type": "code",
   "execution_count": 45,
   "metadata": {},
   "outputs": [
    {
     "name": "stdout",
     "output_type": "stream",
     "text": [
      "Quel est ton nom, cher(e) inconnu(e) ?abc\n",
      "Hello abc !\n"
     ]
    }
   ],
   "source": [
    "nom = input('Quel est ton nom, cher(e) inconnu(e) ?')\n",
    "\n",
    "if len(nom) > 0:\n",
    "    print(\"Hello\", nom, \"!\")\n",
    "else:\n",
    "    print(\"Hello World !\")"
   ]
  },
  {
   "cell_type": "code",
   "execution_count": 46,
   "metadata": {},
   "outputs": [
    {
     "name": "stdout",
     "output_type": "stream",
     "text": [
      "Quel est le soldes de votre compte ?1001\n",
      "Prêt en cours de validation : à l'étude\n"
     ]
    }
   ],
   "source": [
    "compte = input(\"Quel est le soldes de votre compte ?\")\n",
    "compte = int(compte) # convertie la réponse en entier\n",
    "\n",
    "if compte >= 10000:\n",
    "    print(\"Prêt accordé !\")\n",
    "elif 100 <= compte < 10000:\n",
    "    print(\"Prêt en cours de validation : à l'étude\")\n",
    "else:\n",
    "    print(\"Prêt refusé\")"
   ]
  },
  {
   "cell_type": "markdown",
   "metadata": {},
   "source": [
    "### Booléen\n",
    "\n",
    "* valeurs `True` ou `False`"
   ]
  },
  {
   "cell_type": "code",
   "execution_count": 47,
   "metadata": {},
   "outputs": [
    {
     "name": "stdout",
     "output_type": "stream",
     "text": [
      "Vrai\n"
     ]
    }
   ],
   "source": [
    "un_bool = True\n",
    "\n",
    "if un_bool:\n",
    "    print(\"Vrai\")  "
   ]
  },
  {
   "cell_type": "markdown",
   "metadata": {},
   "source": [
    "####  Opérateurs de comparaison\n",
    "\n",
    "* `==`\n",
    "* `!=`\n",
    "* `<` et `<=`\n",
    "* `>` et `>=`\n",
    "* on peut enchaîner les opérateurs de comparaison et faire `x < y < z` équivalent à `x < y and y < z`"
   ]
  },
  {
   "cell_type": "code",
   "execution_count": 48,
   "metadata": {},
   "outputs": [
    {
     "name": "stdout",
     "output_type": "stream",
     "text": [
      "True\n",
      "False\n"
     ]
    }
   ],
   "source": [
    "print(1 < 2 < 3)\n",
    "print(1 < 2 < 2)"
   ]
  },
  {
   "cell_type": "markdown",
   "metadata": {},
   "source": [
    "#### Opérateurs logiques\n",
    "\n",
    "* `and`\n",
    "* `or`\n",
    "* `not`\n",
    "* `in` et `not in`\n",
    "* `is` et `is not` : teste si 2 objets sont les mêmes "
   ]
  },
  {
   "cell_type": "code",
   "execution_count": 49,
   "metadata": {},
   "outputs": [
    {
     "name": "stdout",
     "output_type": "stream",
     "text": [
      "True\n",
      "False\n",
      "False\n",
      "True\n",
      "True\n",
      "False\n",
      "False\n",
      "True\n"
     ]
    }
   ],
   "source": [
    "print(True and True)\n",
    "print(True and False)\n",
    "print(False and False)\n",
    "print(True or False)\n",
    "print(True or True)\n",
    "print(False or False)\n",
    "print(not(True))\n",
    "print(not(False))"
   ]
  },
  {
   "cell_type": "code",
   "execution_count": 50,
   "metadata": {},
   "outputs": [
    {
     "name": "stdout",
     "output_type": "stream",
     "text": [
      "True\n",
      "False\n",
      "True\n"
     ]
    }
   ],
   "source": [
    "maListe = [4, 2, 3, 2, 10]\n",
    "print(4 in maListe)\n",
    "print(0 in maListe)\n",
    "print(0 not in maListe)"
   ]
  },
  {
   "cell_type": "code",
   "execution_count": 51,
   "metadata": {},
   "outputs": [
    {
     "name": "stdout",
     "output_type": "stream",
     "text": [
      "False\n",
      "True\n"
     ]
    }
   ],
   "source": [
    "print([\"a\", \"b\"] is [\"b\", \"a\"])\n",
    "print([\"a\", \"b\"] is not [\"b\", \"a\"])"
   ]
  },
  {
   "cell_type": "code",
   "execution_count": 52,
   "metadata": {},
   "outputs": [
    {
     "data": {
      "text/plain": [
       "True"
      ]
     },
     "execution_count": 52,
     "metadata": {},
     "output_type": "execute_result"
    }
   ],
   "source": [
    "'a' in {\"a\": 1, \"b\": 2}"
   ]
  },
  {
   "cell_type": "markdown",
   "metadata": {},
   "source": [
    "## Les boucles\n",
    "\n",
    "### La fonction `range()`\n",
    "\n",
    "* Très souvent utilisée avec les boucles `for`\n",
    "* avec 1 seul argument : `range(stop)`, commence à 0 \n",
    "* avec 2 ou 3 arguments : `range(start, stop[, step])`, `start` est inclus, `stop` exclu, `step` est le pas éventuel, par défaut égal à 1\n",
    "* renvoie une liste d'entiers, en fait c'est un type `range`\n",
    "* Voir <https://docs.python.org/3.8/library/functions.html#func-range> pour documentation"
   ]
  },
  {
   "cell_type": "code",
   "execution_count": 53,
   "metadata": {},
   "outputs": [
    {
     "name": "stdout",
     "output_type": "stream",
     "text": [
      "<class 'range'>\n",
      "[0, 1, 2]\n",
      "[]\n",
      "[2, 3, 4]\n",
      "[-2, -1, 0, 1, 2, 3, 4]\n",
      "[2, 4, 6, 8]\n",
      "[-2, -3, -4, -5, -6, -7, -8, -9]\n"
     ]
    }
   ],
   "source": [
    "print(type(range(3)))\n",
    "\n",
    "print(list(range(3)))\n",
    "print(list(range(-3)))\n",
    "print(list(range(2, 5)))\n",
    "print(list(range(-2, 5)))\n",
    "print(list(range(2, 10, 2)))\n",
    "print(list(range(-2, -10, -1)))"
   ]
  },
  {
   "cell_type": "markdown",
   "metadata": {},
   "source": [
    "### `for`\n",
    "\n",
    "* utilisée lorsqu'on sait à l'avance le nombre de fois où on va boucler\n",
    "* en général, le `for` se réalise sur une collection (string, liste, dictionnaire, etc.)\n",
    "* quand on boucle sur une séquence, on peut obtenir en même temps l'indice et la valeur correspondante avec `enumerate()` \n",
    "* quand on souhaite boucler sur 2 (ou plus) séquences à la fois, on peut utiliser la fonction `zip()` qui assemble les séquences\n",
    "* pour boucler à l'envers sur une séquence, utiliser la fonction `reversed()`\n",
    "* quand on boucle sur un dictionnaire, la clé et la valeur correspondante peuvent être obtenues en même temps avec `items()`"
   ]
  },
  {
   "cell_type": "code",
   "execution_count": 54,
   "metadata": {},
   "outputs": [
    {
     "name": "stdout",
     "output_type": "stream",
     "text": [
      "A\n",
      "l\n",
      "l\n",
      "o\n"
     ]
    }
   ],
   "source": [
    "# sur une collection\n",
    "un_string = \"Allo\"\n",
    "for char in un_string:\n",
    "    print(char)"
   ]
  },
  {
   "cell_type": "code",
   "execution_count": 55,
   "metadata": {},
   "outputs": [
    {
     "name": "stdout",
     "output_type": "stream",
     "text": [
      "0\n",
      "1\n",
      "2\n",
      "3\n",
      "4\n"
     ]
    }
   ],
   "source": [
    "# sur un range\n",
    "for i in range(5):\n",
    "    print(i)"
   ]
  },
  {
   "cell_type": "code",
   "execution_count": 56,
   "metadata": {},
   "outputs": [
    {
     "name": "stdout",
     "output_type": "stream",
     "text": [
      "cat 3\n",
      "window 6\n",
      "defenestrate 12\n",
      "['defenestrate', 'cat', 'window', 'defenestrate']\n"
     ]
    }
   ],
   "source": [
    "# boucle sur un slice\n",
    "words = ['cat', 'window', 'defenestrate']\n",
    "for w in words:\n",
    "    print(w, len(w))\n",
    "\n",
    "for w in words[1:3]:\n",
    "    if len(w) > 6:\n",
    "        words.insert(0, w) # ici on modifie la liste entière \n",
    "        \n",
    "print(words)"
   ]
  },
  {
   "cell_type": "code",
   "execution_count": 57,
   "metadata": {},
   "outputs": [
    {
     "name": "stdout",
     "output_type": "stream",
     "text": [
      "0 tic\n",
      "1 tac\n",
      "2 toe\n"
     ]
    }
   ],
   "source": [
    "# enumerate pour récupérer l'indice et la valeur\n",
    "for i, v in enumerate(['tic', 'tac', 'toe']):\n",
    "    print(i, v)"
   ]
  },
  {
   "cell_type": "code",
   "execution_count": 58,
   "metadata": {},
   "outputs": [
    {
     "name": "stdout",
     "output_type": "stream",
     "text": [
      "gallahad the pure\n",
      "robin the brave\n"
     ]
    }
   ],
   "source": [
    "# même chose sur un dictionnaire avec items()\n",
    "knights = {'gallahad': 'the pure', 'robin': 'the brave'}\n",
    "for k, v in knights.items():\n",
    "    print(k, v)"
   ]
  },
  {
   "cell_type": "code",
   "execution_count": 59,
   "metadata": {},
   "outputs": [
    {
     "name": "stdout",
     "output_type": "stream",
     "text": [
      "[('name', 'lancelot'), ('quest', 'the holy grail'), ('favorite color', 'blue')]\n",
      "What is your name?  It is lancelot.\n",
      "What is your quest?  It is the holy grail.\n",
      "What is your favorite color?  It is blue.\n"
     ]
    }
   ],
   "source": [
    "# sur 2 listes en même temps\n",
    "questions = ['name', 'quest', 'favorite color']\n",
    "answers = ['lancelot', 'the holy grail', 'blue']\n",
    "print(list(zip(questions, answers)))\n",
    "\n",
    "for q, a in zip(questions, answers):\n",
    "    print('What is your {0}?  It is {1}.'.format(q, a))"
   ]
  },
  {
   "cell_type": "code",
   "execution_count": 60,
   "metadata": {},
   "outputs": [
    {
     "name": "stdout",
     "output_type": "stream",
     "text": [
      "9\n",
      "7\n",
      "5\n",
      "3\n",
      "1\n"
     ]
    }
   ],
   "source": [
    "# boucler à l'envers\n",
    "for i in reversed(range(1, 10, 2)):\n",
    "    print(i)"
   ]
  },
  {
   "cell_type": "markdown",
   "metadata": {},
   "source": [
    "### `while`\n",
    "\n",
    "* boucle conditionnelle, continue tant que la condition est vraie\n",
    "* `while liste:` itère tant que la liste n'est pas vide"
   ]
  },
  {
   "cell_type": "code",
   "execution_count": 61,
   "metadata": {},
   "outputs": [
    {
     "name": "stdout",
     "output_type": "stream",
     "text": [
      "J'ai planté 1 arbres\n",
      "J'ai planté 2 arbres\n",
      "J'ai planté 3 arbres\n",
      "J'ai planté 4 arbres\n",
      "J'ai planté 5 arbres\n",
      "J'ai planté 6 arbres\n",
      "J'ai planté 7 arbres\n",
      "J'ai planté 8 arbres\n",
      "J'ai planté 9 arbres\n",
      "J'ai planté 10 arbres\n",
      "J'ai une chouette forêt !\n"
     ]
    }
   ],
   "source": [
    "nombreArbres = 0\n",
    "\n",
    "while nombreArbres < 10:\n",
    "    nombreArbres += 1\n",
    "    print(\"J'ai planté\", nombreArbres, \"arbres\")\n",
    "    \n",
    "print(\"J'ai une chouette forêt !\")"
   ]
  },
  {
   "cell_type": "code",
   "execution_count": 62,
   "metadata": {},
   "outputs": [
    {
     "name": "stdout",
     "output_type": "stream",
     "text": [
      "corge\n",
      "qux\n",
      "baz\n",
      "Done.\n"
     ]
    }
   ],
   "source": [
    "a = ['foo', 'bar', 'baz', 'qux', 'corge']\n",
    "\n",
    "while a:\n",
    "    if len(a) < 3:\n",
    "        break\n",
    "    print(a.pop())\n",
    "\n",
    "print('Done.')"
   ]
  },
  {
   "cell_type": "markdown",
   "metadata": {},
   "source": [
    "### `continue` et `break`\n",
    "\n",
    "* `continue` permet dans une boucle de passer une itération\n",
    "* `break` termine la boucle"
   ]
  },
  {
   "cell_type": "code",
   "execution_count": 63,
   "metadata": {},
   "outputs": [
    {
     "name": "stdout",
     "output_type": "stream",
     "text": [
      "0\n",
      "i != 2\n",
      "1\n",
      "i != 2\n",
      "2\n",
      "Cas spécial\n",
      "3\n",
      "i != 2\n",
      "4\n",
      "i != 2\n"
     ]
    }
   ],
   "source": [
    "for i in range(5):\n",
    "    # instructions réalisées à chaque itération\n",
    "    print(i)\n",
    "    if i == 2:\n",
    "        print(\"Cas spécial\")\n",
    "        continue \n",
    "    # instructions non exécutées si i == 2 \n",
    "    print(\"i != 2\")"
   ]
  },
  {
   "cell_type": "code",
   "execution_count": 64,
   "metadata": {},
   "outputs": [
    {
     "name": "stdout",
     "output_type": "stream",
     "text": [
      "J'ai une orange !\n"
     ]
    }
   ],
   "source": [
    "panier = [\"pomme\", \"orange\", \"banane\"]\n",
    "\n",
    "for fruit in panier:\n",
    "    if fruit == \"orange\":\n",
    "        print(\"J'ai une\", fruit, \"!\")\n",
    "        break"
   ]
  },
  {
   "cell_type": "markdown",
   "metadata": {},
   "source": [
    "## Les modules et packages\n",
    "\n",
    "### Module\n",
    "\n",
    "* un module = un fichier contenant un ensemble de variables, classes et fonctions\n",
    "* pour importer un module : mot clé `import`. Par exemple pour importer un fichier `geometry.py`, on fait `import geometry`. Tous les éléments du module sont alors disponible avec `nomModule.fonction()` ou `nomModule.variable`.\n",
    "* Pour ne pas avoir à écrire à chaque fois le nom du module en entier, 2 options : \n",
    "    1. utilisé un alias : `import geometry as geo`. On peut alors faire `geo.fonction()`\n",
    "    2. importer des fonctions ou variables spécifiques qu'on pourra alors utiliser directement sans `.` : `from geometry import pi`.\n",
    "    "
   ]
  },
  {
   "cell_type": "markdown",
   "metadata": {},
   "source": [
    "### Fonction `dir()`\n",
    "\n",
    "* sans argument, renvoie les noms que l'on a défini\n",
    "* avec un module en argument, renvoie les noms que ce module définis\n",
    "* pour avoir le noms des *built-in* fonctions et variables, c'est dans le module `__builtin__` : faire `dir(__builtin__)`. "
   ]
  },
  {
   "cell_type": "markdown",
   "metadata": {},
   "source": [
    "    \n",
    "### Package\n",
    "\n",
    "* un package (ou librairy) est un ensemble de modules, c'est un réperoire contenant plusieurs fichiers `.py` et un fichier additionel `__init__.py`. Ce dernier fichier différencie un package d'un dossier classique contenant des fichiers de code python. \n",
    "* aussi `import monPackage` pour importer l'ensemble du package. Pour accéder à une fonction d'un module de ce package, il faut alors faire `monPackage.monModule.maFonction()`\n",
    "* on peut aussi importer seulement un module du package : `import monPackage.monModule as mod`, et on pourra faire `mod.maFonction()`\n",
    "* exemple de package pour l'analyse de donnée : `numpy`"
   ]
  },
  {
   "cell_type": "code",
   "execution_count": 65,
   "metadata": {},
   "outputs": [
    {
     "name": "stdout",
     "output_type": "stream",
     "text": [
      "4.0\n"
     ]
    }
   ],
   "source": [
    "import numpy as np\n",
    "print(np.sqrt(16))"
   ]
  },
  {
   "cell_type": "markdown",
   "metadata": {},
   "source": [
    "## Module Random\n",
    "\n",
    "* fonction `random()` tire aléatoirement un float dans [0 ; 1[\n",
    "* `randint(a, b)` pour un entier entre a et b\n",
    "* `uniform(a, b)` tire un float dans [a ; b]\n",
    "* `gauss(moyenne, ecart_type)` pour la loi normale\n",
    "* `choice(liste)` tire aléatoirement un élément d'une liste \n",
    "* `choices(liste, k)` tire `k` éléments aléatoirement avec remise\n",
    "* `sample(liste, k)` pour tirage sans remise\n",
    "* Le package `numpy` reprend le module random, on peut l'importer avec `import numpy.random as random`"
   ]
  },
  {
   "cell_type": "code",
   "execution_count": 6,
   "metadata": {},
   "outputs": [
    {
     "name": "stdout",
     "output_type": "stream",
     "text": [
      "0.5864850313661599\n",
      "0.6401585353332774\n",
      "0.13339431005639757\n"
     ]
    }
   ],
   "source": [
    "import random\n",
    "\n",
    "for i in range(3):\n",
    "    print(random.random())"
   ]
  },
  {
   "cell_type": "code",
   "execution_count": 7,
   "metadata": {},
   "outputs": [
    {
     "name": "stdout",
     "output_type": "stream",
     "text": [
      "1\n",
      "2\n",
      "2\n"
     ]
    }
   ],
   "source": [
    "for i in range(3):\n",
    "    print(random.randint(1, 2))"
   ]
  },
  {
   "cell_type": "code",
   "execution_count": 8,
   "metadata": {},
   "outputs": [
    {
     "name": "stdout",
     "output_type": "stream",
     "text": [
      "1.4476448762911351\n",
      "1.717856074133475\n",
      "1.2374230023787534\n"
     ]
    }
   ],
   "source": [
    "for i in range(3):\n",
    "    print(random.uniform(1, 2))"
   ]
  },
  {
   "cell_type": "code",
   "execution_count": 9,
   "metadata": {},
   "outputs": [
    {
     "name": "stdout",
     "output_type": "stream",
     "text": [
      "0.6880014116671445\n",
      "0.8125341675097557\n",
      "0.09578444238352467\n"
     ]
    }
   ],
   "source": [
    "for i in range(3):\n",
    "    print(random.gauss(0, 1))"
   ]
  },
  {
   "cell_type": "code",
   "execution_count": 14,
   "metadata": {},
   "outputs": [
    {
     "name": "stdout",
     "output_type": "stream",
     "text": [
      "c\n",
      "b\n",
      "b\n",
      "['c', 'b']\n",
      "['a', 'a']\n",
      "['a', 'b']\n",
      "['c', 'a']\n",
      "['b', 'c']\n",
      "['a', 'c']\n"
     ]
    }
   ],
   "source": [
    "une_liste = [\"a\", \"b\", \"c\"]\n",
    "\n",
    "for i in range(3):\n",
    "    print(random.choice(une_liste))\n",
    "    \n",
    "for i in range(3):\n",
    "    print(random.choices(une_liste, k = 2))\n",
    "    \n",
    "for i in range(3):\n",
    "    print(random.sample(une_liste, k = 2))"
   ]
  },
  {
   "cell_type": "code",
   "execution_count": 23,
   "metadata": {},
   "outputs": [
    {
     "name": "stdout",
     "output_type": "stream",
     "text": [
      "0.1669\n",
      "0.165\n"
     ]
    }
   ],
   "source": [
    "# Question 3 du quiz :\n",
    "#\n",
    "# Soit 10.000 lancers d'un dé équilibré classique (à 6 faces). Parmi ces 10.000 lancers, \n",
    "# on en prend 1.000 aléatoirement.\n",
    "# On réalise 5 fois cette expérience, et on note m la moyenne des fréquences de 6 obtenus \n",
    "# sur les 10.000 lancers et n la moyenne des fréquences de 4 obtenus dans le sous-échantillon.\n",
    "# Quelles seraient les valeurs de m et n à l'issue de cette expérience ?\n",
    "\n",
    "lances = []\n",
    "for i in range(10000):\n",
    "    lances.append(random.randint(1, 6))\n",
    "    \n",
    "sous_ech = random.sample(lances,k = 1000)\n",
    "m = lances.count(6) / 10000\n",
    "n = sous_ech.count(4) / 1000\n",
    "    \n",
    "print(m)\n",
    "print(n)"
   ]
  },
  {
   "cell_type": "code",
   "execution_count": 40,
   "metadata": {},
   "outputs": [
    {
     "name": "stdout",
     "output_type": "stream",
     "text": [
      "-104\n",
      "-132\n"
     ]
    }
   ],
   "source": [
    "# Question 4 du quiz :\n",
    "#\n",
    "# Le jeu A est un jeu de pile ou face avec une pièce biaisée (pile avec une probabilité de p=0.49).\n",
    "# On lance la pièce. Si l'on obtient pile, on gagne un euro, sinon on perd un euro.\n",
    "#\n",
    "# Le jeu B est un jeu avec deux pièces biaisées. La pièce 1 donne pile avec une probabilité\n",
    "# p1 = 0.09 et la pièce 2 donne pile avec une probabilité p2 = 0.74. Si le joueur a un capital \n",
    "# de K euros qui est un multiple de 3, on lance la pièce 1, sinon on lance la pièce 2. \n",
    "# Comme dans le jeu A, si l'on obtient pile, on gagne un euro, sinon on perd un euro.\n",
    "\n",
    "# Le jeu A est clairement perdant. Le jeu B l'est aussi (vous pourrez le vérifier). \n",
    "# À présent, on va mixer les deux ! En effet, à chaque tour, on lance une pièce\n",
    "# (cette fois-ci...) équilibrée ! Si l'on a pile, on joue au jeu A, sinon on joue au jeu B.\n",
    "\n",
    "# Après avoir joué 1.000.000 de parties, quel est le statut du jeu, du point de vue du joueur ?\n",
    "\n",
    "def jeuA():\n",
    "    if random.uniform(0, 1) <= 0.49:\n",
    "        return 1\n",
    "    else:\n",
    "        return -1\n",
    "    \n",
    "def jeuB(K):\n",
    "    if K % 3 == 0:\n",
    "        if random.uniform(0, 1) <= 0.09:\n",
    "            return 1\n",
    "        else:\n",
    "            return -1\n",
    "    else:\n",
    "        if random.uniform(0, 1) <= 0.74:\n",
    "            return 1\n",
    "        else:\n",
    "            return -1\n",
    "    \n",
    "# on joue au jeu A\n",
    "argent = 0\n",
    "for i in range(10000):\n",
    "    argent += jeuA()\n",
    "    \n",
    "print(argent)\n",
    "\n",
    "\n",
    "# on joue au jeu B\n",
    "argent = 0\n",
    "for i in range(10000):\n",
    "    argent += jeuB(argent)\n",
    "    \n",
    "print(argent)"
   ]
  },
  {
   "cell_type": "code",
   "execution_count": 44,
   "metadata": {},
   "outputs": [
    {
     "name": "stdout",
     "output_type": "stream",
     "text": [
      "6174\n"
     ]
    }
   ],
   "source": [
    "# on joue aux 2 en même temps\n",
    "argent = 0\n",
    "for i in range(1000000):\n",
    "    if random.uniform(0, 1) <= 0.5:\n",
    "        argent += jeuA()\n",
    "    else:\n",
    "        argent += jeuB(argent)\n",
    "    \n",
    "print(argent)"
   ]
  },
  {
   "cell_type": "code",
   "execution_count": null,
   "metadata": {},
   "outputs": [],
   "source": []
  }
 ],
 "metadata": {
  "celltoolbar": "Format de la Cellule Texte Brut",
  "kernelspec": {
   "display_name": "Python 3",
   "language": "python",
   "name": "python3"
  },
  "language_info": {
   "codemirror_mode": {
    "name": "ipython",
    "version": 3
   },
   "file_extension": ".py",
   "mimetype": "text/x-python",
   "name": "python",
   "nbconvert_exporter": "python",
   "pygments_lexer": "ipython3",
   "version": "3.7.6"
  },
  "toc": {
   "base_numbering": 1,
   "nav_menu": {
    "height": "307px",
    "width": "289px"
   },
   "number_sections": true,
   "sideBar": true,
   "skip_h1_title": true,
   "title_cell": "Sommaire",
   "title_sidebar": "Sommaire",
   "toc_cell": false,
   "toc_position": {},
   "toc_section_display": true,
   "toc_window_display": true
  }
 },
 "nbformat": 4,
 "nbformat_minor": 4
}

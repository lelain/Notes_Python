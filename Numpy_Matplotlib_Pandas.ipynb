{
 "cells": [
  {
   "cell_type": "markdown",
   "metadata": {},
   "source": [
    "# Librairies Python pour la data science\n",
    "\n",
    "* Cours openclassrooms : <https://openclassrooms.com/fr/courses/4452741-decouvrez-les-librairies-python-pour-la-data-science>\n",
    "* A propos de Git : <http://marklodato.github.io/visual-git-guide/index-en.html>"
   ]
  },
  {
   "cell_type": "markdown",
   "metadata": {},
   "source": [
    "## Module Python et Jupyter\n",
    "\n",
    "* Pour créer un module Python : sur la page d'accueil de Jupyter : Nouveau/fichier texte. Enregistrer en `.py` et on peut ensuite l'importer dans un notebook. Il faut que le fichier soit dans le même répertoire que le notebook.\n",
    "* Faire une docstring permet d'avoir une documentation à l'appel de `help()`"
   ]
  },
  {
   "cell_type": "markdown",
   "metadata": {},
   "source": [
    "## Problème de Monty Hall\n",
    "\n",
    "L'exposé du problème est plutôt simple. Imaginez un jeu télévisé où il y a trois portes sur le plateau de jeu. Seule une de ces portes cache un trésor. Il n'y a rien derrière les deux autres portes. Rien ne permet de savoir quelle porte cache le trésor.\n",
    "\n",
    "La tâche du joueur consiste à choisir parmi les trois portes celle qu'il veut ouvrir. Il aura droit au trésor s'il choisit la bonne porte, et rien sinon. Pour faire son choix, il n'a aucune information. Il doit donc simplement s'en remettre au hasard.\n",
    "\n",
    "Jusqu'ici, le problème n'a rien de remarquable. Mais il y a un twist ! Une fois que le joueur a fait son choix, mais avant d'ouvrir la porte, le présentateur élimine, parmi les deux portes non choisies, une porte qui ne contient pas de trésor. Si les deux portes restantes ne contiennent rien, le présentateur élimine simplement une d'entre elles au hasard.\n",
    "\n",
    "Le joueur doit alors faire un nouveau choix. Il peut soit choisir d'ouvrir la première porte qu'il avait choisie, soit changer pour la porte non éliminée par le présentateur. La question est, qu'a-t-il intérêt à faire ?"
   ]
  },
  {
   "cell_type": "markdown",
   "metadata": {},
   "source": [
    "### Génération d'une partie"
   ]
  },
  {
   "cell_type": "code",
   "execution_count": 43,
   "metadata": {},
   "outputs": [],
   "source": [
    "# Pour afficher les graphiques dans la continuité du code, \n",
    "# et non pas dans une fenêtre à part:\n",
    "%matplotlib inline\n",
    "\n",
    "# Pour utiliser la fonction randint, qui génère des nombres\n",
    "# entiers de façon aléatoire:\n",
    "from random import randint, seed\n",
    "\n",
    "# Un Enum est une structure de données qui consiste en un \n",
    "# ensemble d'éléments nommés. Une variable de ce type peut\n",
    "# avoir comme valeur un de ces éléments.\n",
    "from enum import Enum\n",
    "\n",
    "# Pour pouvoir afficher des graphiques:\n",
    "import matplotlib.pyplot as plt"
   ]
  },
  {
   "cell_type": "code",
   "execution_count": 44,
   "metadata": {},
   "outputs": [],
   "source": [
    "# Ici nous définissons une sous-classe de Enum, qui contiendra \n",
    "# les stratégies possibles.\n",
    "class Strategie(Enum):\n",
    "    CHANGER = 1\n",
    "    GARDER = 2"
   ]
  },
  {
   "cell_type": "code",
   "execution_count": 45,
   "metadata": {},
   "outputs": [],
   "source": [
    "# fonction seed() sans argument utilise l'horloge système pour initialiser le générateur de \n",
    "# nombres pseudo-aléatoires.\n",
    "seed()\n",
    "\n",
    "# Une partie\n",
    "def play_game(strategie):\n",
    "    '''Simule une partie du jeu Monty Hall.\n",
    "    \n",
    "    Cette fonction simule le choix de la porte par le participant, \n",
    "    l'élimination d'une mauvaise porte par le présentateur, et le \n",
    "    choix final. Elle ne retourne que le résultat de la partie, parce \n",
    "    que nous n'aurons besoin que du résultat pour effectuer nos calculs.\n",
    "    \n",
    "    Args:\n",
    "        strategie (Strategie): La stratégie du joueur\n",
    "        \n",
    "    Returns:\n",
    "        bool: Le joueur a-t-il gagné?\n",
    "    '''\n",
    "\n",
    "    portes = [0, 1, 2]\n",
    "    \n",
    "    bonne_porte = randint(0,2)\n",
    "    \n",
    "    # Choix du joueur\n",
    "    premier_choix = randint(0,2)\n",
    "    \n",
    "    # Il nous reste deux portes\n",
    "    portes.remove(premier_choix)\n",
    "    \n",
    "    # Le présentateur élimine une porte\n",
    "    if premier_choix == bonne_porte:\n",
    "        portes.remove(portes[randint(0,1)])\n",
    "    else:\n",
    "        portes = [bonne_porte]\n",
    "    \n",
    "    deuxieme_choix = 0\n",
    "    # Le deuxieme choix depend de la strategie\n",
    "    if strategie == Strategie.CHANGER:\n",
    "        deuxieme_choix = portes[0]\n",
    "    elif strategie == Strategie.GARDER:\n",
    "        deuxieme_choix = premier_choix\n",
    "    else:\n",
    "        raise ValueError(\"Stratégie non reconnue!\")\n",
    "    \n",
    "    return deuxieme_choix == bonne_porte"
   ]
  },
  {
   "cell_type": "code",
   "execution_count": 46,
   "metadata": {},
   "outputs": [
    {
     "name": "stdout",
     "output_type": "stream",
     "text": [
      "True\n"
     ]
    }
   ],
   "source": [
    "print(play_game(Strategie.CHANGER))"
   ]
  },
  {
   "cell_type": "markdown",
   "metadata": {},
   "source": [
    "### Simulation de plusieurs parties"
   ]
  },
  {
   "cell_type": "code",
   "execution_count": 47,
   "metadata": {},
   "outputs": [],
   "source": [
    "# Nombre de parties définies par l'utilisateur\n",
    "def play(strategie, nb_tours):\n",
    "    '''Simule une suite de tours du jeu.\n",
    "    \n",
    "    Cette fonction renvoie les résultats de plusieurs parties\n",
    "    du jeu Monty Hall sous forme d'une liste de gains par le \n",
    "    joueur.\n",
    "    \n",
    "    Args:\n",
    "        strategie (Strategie): La strategie du joueur\n",
    "        nb_tours (int): Nombre de tours\n",
    "        \n",
    "    Returns:\n",
    "        list: Liste des gains du joueurs à chaque partie\n",
    "    '''\n",
    "    \n",
    "    # Ceci est une liste en compréhension. Pour en savoir plus, consulter \n",
    "    # le cours \"Apprenez à programmer en Python\" sur OpenClassrooms\n",
    "    return [1 if play_game(strategie) else 0 for i in range(nb_tours)]"
   ]
  },
  {
   "cell_type": "markdown",
   "metadata": {},
   "source": [
    "### Analyse des résultats"
   ]
  },
  {
   "cell_type": "code",
   "execution_count": 48,
   "metadata": {},
   "outputs": [
    {
     "name": "stdout",
     "output_type": "stream",
     "text": [
      "En changeant de porte, le joueur a gagné 6677 sur 10000 parties.\n",
      "En gardant son choix initial, le joueur a gagné 3331 sur 10000 parties.\n"
     ]
    }
   ],
   "source": [
    "print(\"En changeant de porte, le joueur a gagné {} sur 10000 parties.\"\n",
    "      .format(sum(play(Strategie.CHANGER, 10000))))\n",
    "      \n",
    "print(\"En gardant son choix initial, le joueur a gagné {} sur 10000 parties.\"\n",
    "      .format(sum(play(Strategie.GARDER, 10000))))"
   ]
  },
  {
   "cell_type": "markdown",
   "metadata": {},
   "source": [
    "#### Fonction `plot`\n",
    "\n",
    "* permet de tracer des lignes"
   ]
  },
  {
   "cell_type": "code",
   "execution_count": 49,
   "metadata": {},
   "outputs": [
    {
     "data": {
      "image/png": "[encoded data removed]",
      "text/plain": [
       "<Figure size 432x288 with 1 Axes>"
      ]
     },
     "metadata": {
      "needs_background": "light"
     },
     "output_type": "display_data"
    }
   ],
   "source": [
    "# plot renvoie un objet, que l'on pourra manipuler plus tard pour\n",
    "# personnaliser le graphique\n",
    "plot = plt.plot(play(Strategie.CHANGER, 10))"
   ]
  },
  {
   "cell_type": "markdown",
   "metadata": {},
   "source": [
    "#### Fonction  `scatter`\n",
    "\n",
    "* permet de tracer des points"
   ]
  },
  {
   "cell_type": "code",
   "execution_count": 50,
   "metadata": {},
   "outputs": [
    {
     "data": {
      "image/png": "[encoded data removed]",
      "text/plain": [
       "<Figure size 432x288 with 1 Axes>"
      ]
     },
     "metadata": {
      "needs_background": "light"
     },
     "output_type": "display_data"
    }
   ],
   "source": [
    "plot = plt.scatter(range(10), play(Strategie.CHANGER, 10))"
   ]
  },
  {
   "cell_type": "markdown",
   "metadata": {},
   "source": [
    "#### Fonction `bar`\n",
    "\n",
    "* premier argument : coordonnées des barres\n",
    "* deuxième : hauteur des barres, dans une liste \n",
    "* `tick_label` pour le lable des barres "
   ]
  },
  {
   "cell_type": "code",
   "execution_count": 51,
   "metadata": {},
   "outputs": [
    {
     "data": {
      "image/png": "[encoded data removed]",
      "text/plain": [
       "<Figure size 432x288 with 1 Axes>"
      ]
     },
     "metadata": {
      "needs_background": "light"
     },
     "output_type": "display_data"
    }
   ],
   "source": [
    "plot = plt.bar([1, 2],\n",
    "               [sum(play(Strategie.CHANGER, 10000)), sum(play(Strategie.GARDER, 10000))], \n",
    "               tick_label = [\"Changer\", \"Garder\"])"
   ]
  },
  {
   "cell_type": "markdown",
   "metadata": {},
   "source": [
    "#### Relation entre nombre de parties et gains\n",
    "\n",
    "* `plt.figure()` crée un graphique, les appels suivants à `plt.plot()` ou `plt.scatter()` ajoute les plots au graphique."
   ]
  },
  {
   "cell_type": "code",
   "execution_count": 52,
   "metadata": {},
   "outputs": [
    {
     "name": "stdout",
     "output_type": "stream",
     "text": [
      "[66, 674, 1320, 3342, 5302, 6667]\n",
      "[26, 325, 635, 1620, 2699, 3338]\n"
     ]
    }
   ],
   "source": [
    "gains_changer = []\n",
    "gains_garder = []\n",
    "samples =  [100, 1000, 2000, 5000, 8000, 10000]\n",
    "for tours in samples:\n",
    "    gains_changer.append(play(Strategie.CHANGER, tours))\n",
    "    gains_garder.append(play(Strategie.GARDER, tours))\n",
    "\n",
    "# Dans gains_changer il y a 6 listes : \n",
    "#  - la première de taille 100 avec des 1 pour les parties gagnées, des 0 pour les perdues\n",
    "#  - la deuxième de taille 1000 avec 1 et 0\n",
    "#  - etc.\n",
    "#\n",
    "# Pour avoir la somme des parties gagnées pour les 6 simulations : \n",
    "print([sum(x) for x in gains_changer])\n",
    "print([sum(x) for x in gains_garder])"
   ]
  },
  {
   "cell_type": "code",
   "execution_count": 53,
   "metadata": {},
   "outputs": [
    {
     "data": {
      "image/png": "[encoded data removed]",
      "text/plain": [
       "<Figure size 432x288 with 1 Axes>"
      ]
     },
     "metadata": {
      "needs_background": "light"
     },
     "output_type": "display_data"
    }
   ],
   "source": [
    "figure = plt.figure()\n",
    "plot = plt.scatter(samples, [sum(x) for x in gains_changer])\n",
    "plot = plt.scatter(samples, [sum(x) for x in gains_garder])"
   ]
  },
  {
   "cell_type": "markdown",
   "metadata": {},
   "source": [
    "## Numpy\n",
    "\n",
    "### Documentation\n",
    "\n",
    "* <https://numpy.org/doc/stable/user/>"
   ]
  },
  {
   "cell_type": "markdown",
   "metadata": {},
   "source": [
    "### Loi normale\n",
    "\n"
   ]
  },
  {
   "cell_type": "code",
   "execution_count": 2,
   "metadata": {},
   "outputs": [
    {
     "data": {
      "image/png": "[encoded data removed]",
      "text/plain": [
       "<Figure size 432x288 with 1 Axes>"
      ]
     },
     "metadata": {
      "needs_background": "light"
     },
     "output_type": "display_data"
    }
   ],
   "source": [
    "import numpy as np\n",
    "import matplotlib.pyplot as plt\n",
    "from math import sqrt, pi, exp\n",
    "\n",
    "domaine = range(-100,100)\n",
    "mu = 0\n",
    "sigma = 20\n",
    "\n",
    "# Notez l'utilisation du mot clé lambda. Il est très bien expliqué dans le cours\n",
    "# \"Apprenez à programmer en Python\" sur OpenClassrooms.\n",
    "f = lambda x : 1/(sqrt(2*pi*pow(sigma,2))) * exp(-pow((x-mu),2)/(2*pow(sigma,2)))\n",
    "\n",
    "y = [f(x) for x in domaine]\n",
    "plot = plt.plot(domaine, y)"
   ]
  },
  {
   "cell_type": "markdown",
   "metadata": {},
   "source": [
    "### Théorème centrale limite\n",
    "\n",
    "#### Générer des réalisations de variables aléatoires avec Numpy\n",
    "\n",
    "* fonction `np.random.rand()` pour génération de nombre aléatoire\n",
    "* si un deuxième argument, construit une matrice\n",
    "* accès à un élément de la matrice comme pour les listes. Exemple : les 3 premières lignes et toutes les colonnes : `matrice[0:2][:]`"
   ]
  },
  {
   "cell_type": "code",
   "execution_count": 2,
   "metadata": {},
   "outputs": [
    {
     "data": {
      "image/png": "[encoded data removed]",
      "text/plain": [
       "<Figure size 432x288 with 1 Axes>"
      ]
     },
     "metadata": {
      "needs_background": "light"
     },
     "output_type": "display_data"
    }
   ],
   "source": [
    "vecteur_aleatoire = np.random.rand(30)\n",
    "plot = plt.scatter(range(30), vecteur_aleatoire)"
   ]
  },
  {
   "cell_type": "code",
   "execution_count": 3,
   "metadata": {},
   "outputs": [
    {
     "name": "stdout",
     "output_type": "stream",
     "text": [
      "[[0.62774069 0.59857758 0.49556762 0.64543335 0.37421214]\n",
      " [0.09726941 0.18589129 0.20742522 0.94036275 0.03745213]\n",
      " [0.40665873 0.53469836 0.91812797 0.29707076 0.65099744]]\n",
      "___\n",
      "Juste la deuxième ligne : \n",
      "[0.09726941 0.18589129 0.20742522 0.94036275 0.03745213]\n",
      "___\n",
      "Juste le premier élément : \n",
      "0.6277406881493854\n"
     ]
    }
   ],
   "source": [
    "# Pour une matrice de nombre aléatoire\n",
    "matrice_aleatoire_a_imprimer = np.random.rand(3, 5)\n",
    "print(matrice_aleatoire_a_imprimer)\n",
    "print(\"___\\nJuste la deuxième ligne : \")\n",
    "print(matrice_aleatoire_a_imprimer[1][:])\n",
    "print(\"___\\nJuste le premier élément : \")\n",
    "print(matrice_aleatoire_a_imprimer[0][0])"
   ]
  },
  {
   "cell_type": "code",
   "execution_count": 4,
   "metadata": {},
   "outputs": [
    {
     "data": {
      "image/png": "[encoded data removed]",
      "text/plain": [
       "<Figure size 432x288 with 1 Axes>"
      ]
     },
     "metadata": {
      "needs_background": "light"
     },
     "output_type": "display_data"
    }
   ],
   "source": [
    "matrice_aleatoire_a_grapher = np.random.rand(2, 30)\n",
    "fig = plt.figure()\n",
    "# la première ligne\n",
    "plot1 = plt.scatter(range(30), matrice_aleatoire_a_grapher[0,:])\n",
    "# la deuxième\n",
    "plot2 = plt.scatter(range(30), matrice_aleatoire_a_grapher[1,:])"
   ]
  },
  {
   "cell_type": "markdown",
   "metadata": {},
   "source": [
    "#### Opérations de base sur les matrices\n",
    "\n",
    "* `np.sum()` somme de tous les éléments de la matrice. Si argument `axis = 0` : somme les colonnes, si `axis = 1` somme les lignes\n",
    "* prorpiété `shape` pour avoir la taille de la matrice. Renvoie un *tuple* avec (nb_lignes, nb_colonnes). Si c'est une matrice avec une seule ligne ou colonne, renvoie (nb_éléments, )."
   ]
  },
  {
   "cell_type": "code",
   "execution_count": 6,
   "metadata": {},
   "outputs": [
    {
     "name": "stdout",
     "output_type": "stream",
     "text": [
      "La taille de la variable sommes est (200,).\n"
     ]
    }
   ],
   "source": [
    "# Nous allons considérer 100 variables aléatoires, \n",
    "# chacune avec 200 échantillons.\n",
    "matrice_aleatoire = np.random.rand(100, 200)\n",
    "\n",
    "sommes = np.sum(matrice_aleatoire, axis = 0)\n",
    "\n",
    "print(\"La taille de la variable sommes est {}.\".format(sommes.shape))"
   ]
  },
  {
   "cell_type": "markdown",
   "metadata": {},
   "source": [
    "#### Visualisation\n",
    "\n",
    "* histogramme avec `plt.hist()`"
   ]
  },
  {
   "cell_type": "code",
   "execution_count": 6,
   "metadata": {},
   "outputs": [
    {
     "data": {
      "image/png": "[encoded data removed]",
      "text/plain": [
       "<Figure size 432x288 with 1 Axes>"
      ]
     },
     "metadata": {
      "needs_background": "light"
     },
     "output_type": "display_data"
    }
   ],
   "source": [
    "plot = plt.scatter(range(200), sommes)"
   ]
  },
  {
   "cell_type": "code",
   "execution_count": 60,
   "metadata": {},
   "outputs": [
    {
     "data": {
      "image/png": "[encoded data removed]",
      "text/plain": [
       "<Figure size 432x288 with 1 Axes>"
      ]
     },
     "metadata": {
      "needs_background": "light"
     },
     "output_type": "display_data"
    }
   ],
   "source": [
    "plot = plt.hist(sommes)"
   ]
  },
  {
   "cell_type": "code",
   "execution_count": 61,
   "metadata": {},
   "outputs": [
    {
     "data": {
      "image/png": "[encoded data removed]",
      "text/plain": [
       "<Figure size 432x288 with 1 Axes>"
      ]
     },
     "metadata": {
      "needs_background": "light"
     },
     "output_type": "display_data"
    }
   ],
   "source": [
    "# Avec d'avantage d'échantillons\n",
    "matrice_aleatoire = np.random.rand(1000, 10000)\n",
    "sommes = np.sum(matrice_aleatoire, 0)\n",
    "plot = plt.hist(sommes, bins = 100)"
   ]
  },
  {
   "cell_type": "markdown",
   "metadata": {},
   "source": [
    "#### Calculer les propriétés d'un échantillon\n",
    "\n",
    "* `np.mean()` pour la moyenne\n",
    "* `np.var` pour la variance"
   ]
  },
  {
   "cell_type": "code",
   "execution_count": 62,
   "metadata": {},
   "outputs": [
    {
     "name": "stdout",
     "output_type": "stream",
     "text": [
      "La moyenne empirique de notre distribution est 499.89290058305033.\n",
      "La moyenne empirique de la variable généré par la fonction rand est 0.4987245113767027.\n",
      "La variance empirique de notre distribution est 82.62415898293659.\n",
      "La variance empirique de la variable généré par la fonction rand est 0.0839110622869469.\n"
     ]
    }
   ],
   "source": [
    "# La moyenne de notre distribution est égale à la somme des moyennes des distributions \n",
    "# qui la composent. La variance est la somme des variances des distributions qui composent\n",
    "# notre distribution. Attention, ces propriétés ne sont valables que parce que les\n",
    "# distributions sont indépendantes.\n",
    "print(\"La moyenne empirique de notre distribution est {}.\"\n",
    "      .format(np.mean(sommes)))\n",
    "print(\"La moyenne empirique de la variable généré par la fonction rand est {}.\"\n",
    "      .format(np.mean(np.random.rand(100000))))\n",
    "print(\"La variance empirique de notre distribution est {}.\"\n",
    "      .format(np.var(sommes)))\n",
    "print(\"La variance empirique de la variable généré par la fonction rand est {}.\"\n",
    "      .format(np.var(np.random.rand(100000))))"
   ]
  },
  {
   "cell_type": "markdown",
   "metadata": {},
   "source": [
    "### Problème de Monty-Hall avec Numpy"
   ]
  },
  {
   "cell_type": "code",
   "execution_count": 63,
   "metadata": {},
   "outputs": [],
   "source": [
    "plt.style.use('seaborn-whitegrid')\n",
    "\n",
    "N_TRIALS = 1000\n",
    "\n",
    "# Suite d'entiers entre 0 et 2\n",
    "prizes = np.random.randint(0, 3, size = (N_TRIALS))\n",
    "first_choices = np.random.randint(0, 3, size = (N_TRIALS)) \n",
    "\n",
    "# Si le joueur change de porte, il ne gagne que si son premier choix n'était pas le bon\n",
    "switching_player_gains = (prizes != first_choices).astype(int)\n",
    "keeping_player_gains = (prizes == first_choices).astype(int)"
   ]
  },
  {
   "cell_type": "code",
   "execution_count": 64,
   "metadata": {},
   "outputs": [
    {
     "data": {
      "image/png": "[encoded data removed]",
      "text/plain": [
       "<Figure size 432x288 with 1 Axes>"
      ]
     },
     "metadata": {},
     "output_type": "display_data"
    }
   ],
   "source": [
    "plot = plt.bar([1, 2],\n",
    "               [switching_player_gains.sum(), keeping_player_gains.sum()],\n",
    "               tick_label = [\"Changer\",\"Garder\"])"
   ]
  },
  {
   "cell_type": "code",
   "execution_count": 65,
   "metadata": {},
   "outputs": [
    {
     "data": {
      "image/png": "[encoded data removed]",
      "text/plain": [
       "<Figure size 432x288 with 1 Axes>"
      ]
     },
     "metadata": {},
     "output_type": "display_data"
    }
   ],
   "source": [
    "figure = plt.figure()\n",
    "plot = plt.scatter(range(N_TRIALS), switching_player_gains.cumsum())\n",
    "plot = plt.scatter(range(N_TRIALS), keeping_player_gains.cumsum())"
   ]
  },
  {
   "cell_type": "markdown",
   "metadata": {},
   "source": [
    "### Les *array* Numpy\n",
    "\n",
    "* Un array est un tableau contenant des **valeurs de même type**"
   ]
  },
  {
   "cell_type": "markdown",
   "metadata": {},
   "source": [
    "#### Converion d'objets Python\n",
    "\n",
    "* création à partir d'une liste ou tupple avec la foncion `array(object)`. \n",
    "* On peut spécifier explicitement le type avec l'argument `dtype`. Sinon Numpy essaye de convertir. Voir <https://numpy.org/doc/stable/user/basics.types.html> pour les détails sur les types Numpy."
   ]
  },
  {
   "cell_type": "code",
   "execution_count": 7,
   "metadata": {},
   "outputs": [
    {
     "name": "stdout",
     "output_type": "stream",
     "text": [
      "[1 4 2 5 3]\n",
      "[3.14 4.   2.   3.  ]\n",
      "[1. 2. 3. 4.]\n"
     ]
    }
   ],
   "source": [
    "# Tableau d'entiers:\n",
    "A = np.array([1, 4, 2, 5, 3])\n",
    "\n",
    "# Convertit tout le monde en float\n",
    "B = np.array([3.14, 4, 2, 3])\n",
    "\n",
    "# on peut spécifier manuellement le type\n",
    "C = np.array([1, 2, 3, 4], dtype='float32')\n",
    "\n",
    "print(A)\n",
    "print(B)\n",
    "print(C)"
   ]
  },
  {
   "cell_type": "code",
   "execution_count": 8,
   "metadata": {},
   "outputs": [
    {
     "name": "stdout",
     "output_type": "stream",
     "text": [
      "[range(2, 5), range(4, 7), range(6, 9)]\n",
      "[[2 3 4]\n",
      " [4 5 6]\n",
      " [6 7 8]]\n"
     ]
    }
   ],
   "source": [
    "# Une liste de listes est transformée en un tableau multi-dimensionnel\n",
    "print([range(i, i + 3) for i in [2, 4, 6]])\n",
    "\n",
    "A = np.array([range(i, i + 3) for i in [2, 4, 6]])\n",
    "print(A)"
   ]
  },
  {
   "cell_type": "markdown",
   "metadata": {},
   "source": [
    "#### Création direct d'array NumPy\n",
    "\n",
    "* `zeros(shape)` pour une matrice de zéros. `shape` est soit un *int* et alors création d'un array uni-dimensionnel (<=> vecteur) ou un *tupple d'int* et alors création d'un array de dimension (nrow, ncol). \n",
    "* `ones(shape)` matrice de 1\n",
    "* `eye(N)` pour la matrice identité\n",
    "* `full(shape, fill_value)` pour matrice avec toujours la même valeur `fill_value`\n",
    "* `arange([start,] stop[, step,])` pour une séquence linéaire\n",
    "* `linspace()` pour séquence espacée uniformément"
   ]
  },
  {
   "cell_type": "code",
   "execution_count": 9,
   "metadata": {},
   "outputs": [
    {
     "name": "stdout",
     "output_type": "stream",
     "text": [
      "[0 0 0 0 0 0 0 0 0 0]\n",
      "[[0 0 0 0 0 0 0 0 0 0]\n",
      " [0 0 0 0 0 0 0 0 0 0]\n",
      " [0 0 0 0 0 0 0 0 0 0]\n",
      " [0 0 0 0 0 0 0 0 0 0]\n",
      " [0 0 0 0 0 0 0 0 0 0]]\n"
     ]
    }
   ],
   "source": [
    "# Un tableau de longueur 10 (<=> vecteur), rempli d'entiers qui valent 0\n",
    "A = np.zeros(10, dtype=int)\n",
    "B = np.zeros((5, 10), dtype=int)\n",
    "print(A)\n",
    "print(B)"
   ]
  },
  {
   "cell_type": "code",
   "execution_count": 10,
   "metadata": {},
   "outputs": [
    {
     "data": {
      "text/plain": [
       "array([[1., 1., 1., 1., 1.],\n",
       "       [1., 1., 1., 1., 1.],\n",
       "       [1., 1., 1., 1., 1.]])"
      ]
     },
     "execution_count": 10,
     "metadata": {},
     "output_type": "execute_result"
    }
   ],
   "source": [
    "# Un tableau de taille 3x5 rempli de nombres à virgule flottante de valeur 1\n",
    "np.ones((3, 5))"
   ]
  },
  {
   "cell_type": "code",
   "execution_count": 11,
   "metadata": {},
   "outputs": [
    {
     "data": {
      "text/plain": [
       "array([[3.14, 3.14, 3.14, 3.14, 3.14],\n",
       "       [3.14, 3.14, 3.14, 3.14, 3.14],\n",
       "       [3.14, 3.14, 3.14, 3.14, 3.14]])"
      ]
     },
     "execution_count": 11,
     "metadata": {},
     "output_type": "execute_result"
    }
   ],
   "source": [
    "# Un tableau 3x5 rempli de 3,14\n",
    "np.full((3, 5), 3.14)"
   ]
  },
  {
   "cell_type": "code",
   "execution_count": 12,
   "metadata": {},
   "outputs": [
    {
     "name": "stdout",
     "output_type": "stream",
     "text": [
      "[ 0  2  4  6  8 10 12 14 16 18]\n",
      "[0 1 2 3 4 5 6 7 8 9]\n"
     ]
    }
   ],
   "source": [
    "# Un tableau rempli d'une séquence linéaire\n",
    "# commençant à 0 et qui se termine à 20 exclu, avec un pas de 2\n",
    "# avec des arguments entiers, c'est équivalent à range() mais renvoie un ndarray à la place\n",
    "print(np.arange(0, 20, 2))\n",
    "\n",
    "print(np.arange(10))\n",
    "\n",
    "# Si on veut utiliser un step float, il faut mieux utiliser linspace()"
   ]
  },
  {
   "cell_type": "code",
   "execution_count": 13,
   "metadata": {},
   "outputs": [
    {
     "data": {
      "text/plain": [
       "array([0.  , 0.25, 0.5 , 0.75, 1.  ])"
      ]
     },
     "execution_count": 13,
     "metadata": {},
     "output_type": "execute_result"
    }
   ],
   "source": [
    "# Un tableau de 5 valeurs, espacées uniformément entre 0 et 1\n",
    "np.linspace(0, 1, 5)"
   ]
  },
  {
   "cell_type": "code",
   "execution_count": 14,
   "metadata": {},
   "outputs": [
    {
     "data": {
      "text/plain": [
       "array([[1., 0., 0.],\n",
       "       [0., 1., 0.],\n",
       "       [0., 0., 1.]])"
      ]
     },
     "execution_count": 14,
     "metadata": {},
     "output_type": "execute_result"
    }
   ],
   "source": [
    "# La matrice identité de taille 3x3 \n",
    "np.eye(3)"
   ]
  },
  {
   "cell_type": "markdown",
   "metadata": {},
   "source": [
    "### Propriétés des *array*\n",
    "\n",
    "* le nombre de dimensions : `.ndim`\n",
    "* la forme (<=> nombre de lignes, nombre de colonnes) : `.shape`\n",
    "* la taille (<=> nombre d'éléments) : `.size`\n",
    "* le type : `.dtype`\n",
    "* la transposée : `.T`"
   ]
  },
  {
   "cell_type": "code",
   "execution_count": 15,
   "metadata": {},
   "outputs": [
    {
     "name": "stdout",
     "output_type": "stream",
     "text": [
      "nombre de dimensions de A:  1\n",
      "forme de A:  (6,)\n",
      "taille de A:  6\n",
      "type de A:  int64\n",
      "nombre de dimensions de B:  2\n",
      "forme de B:  (3, 5)\n",
      "taille de B:  15\n",
      "type de B:  float64\n",
      "[[1 2 3]\n",
      " [4 4 4]]\n",
      "[[1 4]\n",
      " [2 4]\n",
      " [3 4]]\n"
     ]
    }
   ],
   "source": [
    "A = np.random.randint(10, size=6)  # Tableau de dimension 1\n",
    "print(\"nombre de dimensions de A: \", A.ndim)\n",
    "print(\"forme de A: \", A.shape)\n",
    "print(\"taille de A: \", A.size)\n",
    "print(\"type de A: \", A.dtype)\n",
    "\n",
    "B = np.zeros((3, 5))\n",
    "print(\"nombre de dimensions de B: \", B.ndim)\n",
    "print(\"forme de B: \", B.shape)\n",
    "print(\"taille de B: \", B.size)\n",
    "print(\"type de B: \", B.dtype)\n",
    "\n",
    "C = np.array([[1, 2, 3], [4, 4, 4]])\n",
    "print(C)\n",
    "print(C.T)"
   ]
  },
  {
   "cell_type": "markdown",
   "metadata": {},
   "source": [
    "### Indexation et slicing\n",
    "\n",
    "#### Accès à un seul élément\n",
    "\n",
    "* Si de dimension 1, accès au premier élément avec `A[0]`, au dernier avec `A[-1]`\n",
    "* Si de dimension 2, `B[0, 0]` renvoie l'élément en haut à gauche, `B[-1, -1]` celui en bas à droite\n",
    "* array est mutable : on peut modifier les valeurs"
   ]
  },
  {
   "cell_type": "code",
   "execution_count": null,
   "metadata": {},
   "outputs": [],
   "source": [
    "print(A)\n",
    "\n",
    "# Pour accéder au premier élément\n",
    "print(A[0])\n",
    "\n",
    "# Pour accéder au dernier élément\n",
    "print(A[-1])"
   ]
  },
  {
   "cell_type": "code",
   "execution_count": 21,
   "metadata": {},
   "outputs": [
    {
     "name": "stdout",
     "output_type": "stream",
     "text": [
      "[[3 4 3 5]\n",
      " [3 2 4 6]\n",
      " [1 5 1 2]]\n",
      "3\n",
      "5\n",
      "2\n"
     ]
    }
   ],
   "source": [
    "# Tableau de dimension 2\n",
    "B = np.random.randint(10, size=(3, 4)) \n",
    "print(B)\n",
    "\n",
    "# première ligne, première colonne\n",
    "print(B[0, 0])\n",
    "\n",
    "# première ligne, dernière colonne\n",
    "print(B[0, -1])\n",
    "\n",
    "# dernière ligne, dernière colonne\n",
    "print(B[-1, -1])"
   ]
  },
  {
   "cell_type": "code",
   "execution_count": 22,
   "metadata": {},
   "outputs": [
    {
     "name": "stdout",
     "output_type": "stream",
     "text": [
      "[   9 1000    1    1    2    5]\n",
      "[9 3 1 1 2 5]\n"
     ]
    }
   ],
   "source": [
    "# On peut modifier les valeurs\n",
    "A[1] = \"1000\"\n",
    "print(A)\n",
    "\n",
    "# Attention au type\n",
    "A[1] = 3.14\n",
    "print(A)"
   ]
  },
  {
   "cell_type": "markdown",
   "metadata": {},
   "source": [
    "#### Accès à plusieurs éléments\n",
    "\n",
    "* en combinant les `[]` et `:`, avec la règle `[debut:fin:pas]`.\n",
    "* `debut` peut être omis si on veut commencer au début de la liste (c'est à dire si début = 0)\n",
    "* `fin` peut être omis si on veut aller jusqu'au bout de la liste (c'est à dire fin = -1 ou fin = len(liste)) \n",
    "* `pas`, ainsi que le dernier `:`, peuvent être omis si le pas est de 1 (-1 si la fin est inférieure au début)"
   ]
  },
  {
   "cell_type": "code",
   "execution_count": 25,
   "metadata": {},
   "outputs": [
    {
     "name": "stdout",
     "output_type": "stream",
     "text": [
      "[9 3 1 1 2 5]\n",
      "[9 3 1 1 2]\n",
      "[5]\n",
      "[9 1 2]\n",
      "[5 2 1 1 3 9]\n"
     ]
    }
   ],
   "source": [
    "# pour un array 1D\n",
    "print(A)\n",
    "\n",
    "# Les cinq premiers éléments\n",
    "print(A[:5]) \n",
    "\n",
    "# Les éléments à partir de l'index 5\n",
    "print(A[5:])  \n",
    "\n",
    "# Un élément sur deux\n",
    "print(A[::2])\n",
    "\n",
    "# si le pas est négatif, le début et la fin du slice sont inversés\n",
    "print(A[::-1])"
   ]
  },
  {
   "cell_type": "code",
   "execution_count": 30,
   "metadata": {},
   "outputs": [
    {
     "name": "stdout",
     "output_type": "stream",
     "text": [
      "[[3 4 3 5]\n",
      " [3 2 4 6]\n",
      " [1 5 1 2]]\n",
      "[3 4 3 5]\n",
      "[3 3 1]\n",
      "[[3 4]\n",
      " [3 2]]\n"
     ]
    }
   ],
   "source": [
    "# pour array 2D, c'est pareil\n",
    "print(B)\n",
    "\n",
    "# la première ligne\n",
    "print(B[0, :])\n",
    "\n",
    "# la première colonne\n",
    "print(B[:, 0])\n",
    "\n",
    "# le carré en haut à gauche\n",
    "print(B[0:2, 0:2])"
   ]
  },
  {
   "cell_type": "markdown",
   "metadata": {},
   "source": [
    "#### Concaténation\n",
    "\n",
    "* pour array 1D : avec `np.concatenate()`\n",
    "* pour array 2D : \n",
    "    + verticalement avec `np.vstack()` \n",
    "    + horizontalement avec `np.hstack()`"
   ]
  },
  {
   "cell_type": "code",
   "execution_count": 31,
   "metadata": {},
   "outputs": [
    {
     "data": {
      "text/plain": [
       "array([1, 2, 3, 3, 2, 1])"
      ]
     },
     "execution_count": 31,
     "metadata": {},
     "output_type": "execute_result"
    }
   ],
   "source": [
    "x = np.array([1, 2, 3])\n",
    "y = np.array([3, 2, 1])\n",
    "np.concatenate([x, y])"
   ]
  },
  {
   "cell_type": "code",
   "execution_count": 33,
   "metadata": {},
   "outputs": [
    {
     "data": {
      "text/plain": [
       "array([[1, 2, 3],\n",
       "       [9, 8, 7],\n",
       "       [6, 5, 4]])"
      ]
     },
     "execution_count": 33,
     "metadata": {},
     "output_type": "execute_result"
    }
   ],
   "source": [
    "x = np.array([1, 2, 3])\n",
    "grid = np.array([[9, 8, 7],\n",
    "                 [6, 5, 4]])\n",
    "\n",
    "np.vstack([x, grid])"
   ]
  },
  {
   "cell_type": "code",
   "execution_count": 36,
   "metadata": {},
   "outputs": [
    {
     "data": {
      "text/plain": [
       "array([[1, 1, 9, 8, 7],\n",
       "       [2, 2, 6, 5, 4]])"
      ]
     },
     "execution_count": 36,
     "metadata": {},
     "output_type": "execute_result"
    }
   ],
   "source": [
    "z = np.array([[1, 1],\n",
    "              [2, 2]])\n",
    "\n",
    "np.hstack([z, grid])"
   ]
  },
  {
   "cell_type": "markdown",
   "metadata": {},
   "source": [
    "### Opérations sur les array NumPy\n",
    "\n",
    "#### Fonctions universelles\n",
    "\n",
    "* on peut effectuer les opérations de base sur chaque élément de l'array\n",
    "* on peut aussi appliquer les fonctions NumPy sur les listes Python\n",
    "* voir <https://numpy.org/doc/stable/reference/ufuncs.html> pour la liste des fonctions universelles NumPy"
   ]
  },
  {
   "cell_type": "code",
   "execution_count": 43,
   "metadata": {},
   "outputs": [
    {
     "name": "stdout",
     "output_type": "stream",
     "text": [
      "[[1 2 3]\n",
      " [4 5 6]]\n",
      "[[ 6  7  8]\n",
      " [ 9 10 11]]\n",
      "[[-4 -3 -2]\n",
      " [-1  0  1]]\n",
      "[[ 2  4  6]\n",
      " [ 8 10 12]]\n",
      "[[0.5 1.  1.5]\n",
      " [2.  2.5 3. ]]\n",
      "[[0 1 1]\n",
      " [2 2 3]]\n"
     ]
    }
   ],
   "source": [
    "# Il y a tout d'abord des opération mathématiques simples\n",
    "X = np.array([[1, 2, 3],\n",
    "              [4, 5, 6]])\n",
    "print(X)\n",
    "print(X + 5)\n",
    "print(X - 5)\n",
    "print(X * 2)\n",
    "print(X / 2)\n",
    "print(X // 2)  # Division entière"
   ]
  },
  {
   "cell_type": "code",
   "execution_count": 46,
   "metadata": {},
   "outputs": [
    {
     "name": "stdout",
     "output_type": "stream",
     "text": [
      "La valeur absolue:  [2 1 1 2]\n",
      "Exponentielle:  [0.13533528 0.36787944 2.71828183 7.3890561 ]\n",
      "Logarithme:  [0.69314718 0.         0.         0.69314718]\n"
     ]
    }
   ],
   "source": [
    "# appliquer une fonction ) un array\n",
    "x = [-2, -1, 1, 2]\n",
    "print(\"La valeur absolue: \", np.abs(x))\n",
    "print(\"Exponentielle: \", np.exp(x))\n",
    "print(\"Logarithme: \", np.log(np.abs(x)))"
   ]
  },
  {
   "cell_type": "markdown",
   "metadata": {},
   "source": [
    "#### Opérations booléennes\n",
    "\n",
    "* on peut utiliser les opérateurs booléens python, le calcul est réalisé élément par élément\n",
    "* fonction `np.where(bool_array)` qui retourne les indices des éléments True "
   ]
  },
  {
   "cell_type": "code",
   "execution_count": 53,
   "metadata": {},
   "outputs": [
    {
     "name": "stdout",
     "output_type": "stream",
     "text": [
      "[[False False  True]\n",
      " [ True  True  True]]\n",
      "(array([0, 1, 1, 1]), array([2, 0, 1, 2]))\n"
     ]
    }
   ],
   "source": [
    "print(X >= 3)\n",
    "\n",
    "print(np.where(X >= 3))"
   ]
  },
  {
   "cell_type": "markdown",
   "metadata": {},
   "source": [
    "En fait, si on utilise seulement un seul argument avec `where()`, la doc NumPy recommande plutôt d'utiliser `nonzero()` qui renvoie les indices des éléments différents de 0. Donc si array de booléens, les indices des éléments *True*.\n",
    "\n",
    "`where()` c'est `where(condition[, x, y])` et renvoie les élements de `x` si la condiion est vrai et les éléments de `y` sinon"
   ]
  },
  {
   "cell_type": "code",
   "execution_count": 54,
   "metadata": {},
   "outputs": [
    {
     "name": "stdout",
     "output_type": "stream",
     "text": [
      "(array([0, 1, 1, 1]), array([2, 0, 1, 2]))\n",
      "(array([0, 1, 1, 1]), array([2, 0, 1, 2]))\n"
     ]
    }
   ],
   "source": [
    "print(np.nonzero(X >= 3))\n",
    "\n",
    "# nonzero() peut aussi etre utilisé comme une méthode d'un array\n",
    "print((X >= 3).nonzero())"
   ]
  },
  {
   "cell_type": "code",
   "execution_count": 58,
   "metadata": {},
   "outputs": [
    {
     "name": "stdout",
     "output_type": "stream",
     "text": [
      "[0 1 2 3 4 5 6 7 8 9]\n",
      "[ 0  1  2  3  4 50 60 70 80 90]\n"
     ]
    }
   ],
   "source": [
    "# Autre exemple avec where, cette fois avec les arguments x et y\n",
    "a = np.arange(10)\n",
    "print(a)\n",
    "\n",
    "# les éléments de a si condition est vrai, sinon c'est les éléments de b\n",
    "print(np.where(a < 5, a, 10*a))"
   ]
  },
  {
   "cell_type": "markdown",
   "metadata": {},
   "source": [
    "#### Agrégation\n",
    "\n",
    "* NumPy a tout un panel de fonction pour le calcul de statistiques. Attention, Python a aussi un équivalent de ces fonctions, mais la version NumPy est plus rapide, et gère correctement les array.\n",
    "* On peut utiliser une fonction d'agrégation à une seule dimension de l'array, avec l'argument `axis`\n",
    "* On peut faire `np.sum(X)` ou utiliser `sum()` en tant que méthode d'array et écrire `X.sum()`\n",
    "* Quelques exemples de fonctions : \n",
    "    + `np.std()`  pour calculer l'écart type\n",
    "    + `np.argmin()`  pour trouver l'index de l'élément minimum\n",
    "    + `np.quantile()`  pour calculer les quantiles"
   ]
  },
  {
   "cell_type": "code",
   "execution_count": 8,
   "metadata": {},
   "outputs": [
    {
     "name": "stdout",
     "output_type": "stream",
     "text": [
      "[0.62486709 0.80273319 0.75763342 0.2248171  0.04360158 0.25050022\n",
      " 0.89562061 0.94960586 0.52482316 0.46758308]\n",
      "5.54178531768075\n"
     ]
    }
   ],
   "source": [
    "L = np.random.random(10)\n",
    "print(L)\n",
    "\n",
    "print(np.sum(L))"
   ]
  },
  {
   "cell_type": "code",
   "execution_count": 7,
   "metadata": {},
   "outputs": [
    {
     "name": "stdout",
     "output_type": "stream",
     "text": [
      "[[0.34509357 0.89967213 0.54606539 0.79207186]\n",
      " [0.10075285 0.59925022 0.46812903 0.19913571]\n",
      " [0.83479059 0.20953492 0.06970144 0.47263883]]\n",
      "La somme de tous les éléments de M:  5.536836520865684\n",
      "Les sommes des colonnes de M:  [1.28063701 1.70845726 1.08389585 1.4638464 ]\n"
     ]
    }
   ],
   "source": [
    "M = np.random.random((3, 4))\n",
    "print(M)\n",
    "\n",
    "print(\"La somme de tous les éléments de M: \", M.sum())\n",
    "print(\"Les sommes des colonnes de M: \", M.sum(axis=0))"
   ]
  },
  {
   "cell_type": "markdown",
   "metadata": {},
   "source": [
    "### Broadcasting\n",
    "\n",
    "* Le broadcasting désigne un ensemble de règles pour appliquer une opération qui normalement ne s'applique que sur une seule valeur à l'ensemble des membres d'un tableau Numpy\n",
    "* Permet par exemple de faire une somme sur des arrays de taille différente : `np.array([0, 1, 2]) + 1`"
   ]
  },
  {
   "cell_type": "code",
   "execution_count": 12,
   "metadata": {},
   "outputs": [
    {
     "name": "stdout",
     "output_type": "stream",
     "text": [
      "[1 2 3]\n"
     ]
    }
   ],
   "source": [
    "a = np.array([0, 1, 2])\n",
    "print(a + 1)"
   ]
  },
  {
   "cell_type": "code",
   "execution_count": 18,
   "metadata": {},
   "outputs": [
    {
     "name": "stdout",
     "output_type": "stream",
     "text": [
      "M vaut: \n",
      " [[1. 1. 1.]\n",
      " [1. 1. 1.]\n",
      " [1. 1. 1.]]\n",
      "a vaut: \n",
      " [0 1 2]\n",
      "M + a vaut: \n",
      " [[1. 2. 3.]\n",
      " [1. 2. 3.]\n",
      " [1. 2. 3.]]\n",
      "M + a vaut: \n",
      " [[1. 2. 3.]\n",
      " [1. 2. 3.]\n",
      " [1. 2. 3.]]\n"
     ]
    }
   ],
   "source": [
    "# marche car M de taille (3, 3) et a (3, )\n",
    "# Erreur si M est (3, 4)\n",
    "M = np.ones((3, 3))\n",
    "print(\"M vaut: \\n\", M)\n",
    "print(\"a vaut: \\n\", a)\n",
    "print(\"M + a vaut: \\n\", M + a)"
   ]
  },
  {
   "cell_type": "code",
   "execution_count": 25,
   "metadata": {},
   "outputs": [
    {
     "name": "stdout",
     "output_type": "stream",
     "text": [
      "[0 1 2]\n",
      "[[0]\n",
      " [1]\n",
      " [2]]\n",
      "[[0 1 2]\n",
      " [1 2 3]\n",
      " [2 3 4]]\n"
     ]
    }
   ],
   "source": [
    "a = np.arange(3)\n",
    "# La ligne suivante crée une matrice de taille 3x1\n",
    "# avec trois lignes et une colonne.\n",
    "# newaxis est simplement un équivalent de None.\n",
    "# Permet de créer un nouvel axe de taille 1, ici 1 seule colonne\n",
    "b = a[:, np.newaxis]\n",
    "\n",
    "print(a)\n",
    "print(b)\n",
    "print(a + b)"
   ]
  },
  {
   "cell_type": "markdown",
   "metadata": {},
   "source": [
    "## Matplotlib\n",
    "\n",
    "### Documentation\n",
    "\n",
    "* <https://matplotlib.org/3.2.1/contents.html>"
   ]
  },
  {
   "cell_type": "markdown",
   "metadata": {},
   "source": [
    "### Mise en place de l'environnement de travail"
   ]
  },
  {
   "cell_type": "code",
   "execution_count": 58,
   "metadata": {},
   "outputs": [],
   "source": [
    "# pour Jupyter\n",
    "%matplotlib inline\n",
    "\n",
    "import numpy as np\n",
    "import matplotlib.pyplot as plt\n",
    "plt.style.use('seaborn-whitegrid')"
   ]
  },
  {
   "cell_type": "markdown",
   "metadata": {},
   "source": [
    "### Graphiques simples\n",
    "\n",
    "* Matplotlib trace les graphiques dans des *figures*. Chaque *figure* peut contenir un ou plusieurs *axes* qui sont des domaines où des points peuvent être spécifiés suivant des coordonnées x-y.\n",
    "* Création d'une figure avec `plt.figure()`, d'un axe avec `plt.axes()`\n",
    "* argument `figsize` pour la taille de la figure\n",
    "* On peut aussi créer le couple (figure, axes) directement avec `plt.subplots()`. "
   ]
  },
  {
   "cell_type": "code",
   "execution_count": 73,
   "metadata": {},
   "outputs": [
    {
     "data": {
      "image/png": "[encoded data removed]",
      "text/plain": [
       "<Figure size 360x360 with 1 Axes>"
      ]
     },
     "metadata": {},
     "output_type": "display_data"
    }
   ],
   "source": [
    "fig = plt.figure(figsize = (5, 5))\n",
    "ax = plt.axes()"
   ]
  },
  {
   "cell_type": "code",
   "execution_count": 72,
   "metadata": {},
   "outputs": [
    {
     "data": {
      "image/png": "[encoded data removed]",
      "text/plain": [
       "<Figure size 864x288 with 1 Axes>"
      ]
     },
     "metadata": {},
     "output_type": "display_data"
    }
   ],
   "source": [
    "# variable ax pour un seul Axes\n",
    "fig, ax = plt.subplots(figsize = (12, 4))"
   ]
  },
  {
   "cell_type": "code",
   "execution_count": 60,
   "metadata": {},
   "outputs": [
    {
     "data": {
      "image/png": "[encoded data removed]",
      "text/plain": [
       "<Figure size 432x288 with 1 Axes>"
      ]
     },
     "metadata": {},
     "output_type": "display_data"
    }
   ],
   "source": [
    "fig, ax = plt.subplots()\n",
    "\n",
    "x = np.linspace(0, 10, 1000)\n",
    "\n",
    "# le point virgule permet simplement de ne pas imprimer d'output\n",
    "ax.plot(x, np.sin(x));"
   ]
  },
  {
   "cell_type": "markdown",
   "metadata": {},
   "source": [
    "### Sous graphes"
   ]
  },
  {
   "cell_type": "code",
   "execution_count": 32,
   "metadata": {},
   "outputs": [
    {
     "data": {
      "image/png": "[encoded data removed]",
      "text/plain": [
       "<Figure size 432x288 with 4 Axes>"
      ]
     },
     "metadata": {},
     "output_type": "display_data"
    }
   ],
   "source": [
    "# variable axs pour plusieurs Axes\n",
    "# ici axs est un array d'Axes\n",
    "fig, axs = plt.subplots(2, 2)"
   ]
  },
  {
   "cell_type": "code",
   "execution_count": 35,
   "metadata": {},
   "outputs": [
    {
     "data": {
      "image/png": "[encoded data removed]",
      "text/plain": [
       "<Figure size 432x288 with 2 Axes>"
      ]
     },
     "metadata": {},
     "output_type": "display_data"
    },
    {
     "data": {
      "image/png": "[encoded data removed]",
      "text/plain": [
       "<Figure size 432x288 with 4 Axes>"
      ]
     },
     "metadata": {},
     "output_type": "display_data"
    }
   ],
   "source": [
    "# avec tuple unpacking pour plusieurs Axes\n",
    "fig, (ax1, ax2) = plt.subplots(1, 2)\n",
    "fig, ((ax1, ax2), (ax3, ax4)) = plt.subplots(2, 2)"
   ]
  }
 ],
 "metadata": {
  "kernelspec": {
   "display_name": "Python 3",
   "language": "python",
   "name": "python3"
  },
  "language_info": {
   "codemirror_mode": {
    "name": "ipython",
    "version": 3
   },
   "file_extension": ".py",
   "mimetype": "text/x-python",
   "name": "python",
   "nbconvert_exporter": "python",
   "pygments_lexer": "ipython3",
   "version": "3.7.6"
  },
  "toc": {
   "base_numbering": 1,
   "nav_menu": {},
   "number_sections": true,
   "sideBar": true,
   "skip_h1_title": true,
   "title_cell": "Sommaire",
   "title_sidebar": "Contenu",
   "toc_cell": false,
   "toc_position": {
    "height": "calc(100% - 180px)",
    "left": "10px",
    "top": "150px",
    "width": "263.4px"
   },
   "toc_section_display": true,
   "toc_window_display": true
  }
 },
 "nbformat": 4,
 "nbformat_minor": 4
}
